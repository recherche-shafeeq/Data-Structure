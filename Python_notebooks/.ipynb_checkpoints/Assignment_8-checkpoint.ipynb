{
 "cells": [
  {
   "cell_type": "code",
   "execution_count": 1,
   "metadata": {},
   "outputs": [],
   "source": [
    "class HashMap:\n",
    "    def __init__(self):\n",
    "        self.size = 10\n",
    "        self.map = [None] * self.size"
   ]
  },
  {
   "cell_type": "code",
   "execution_count": 43,
   "metadata": {},
   "outputs": [],
   "source": [
    "class HashMap:\n",
    "    def __init__(self):\n",
    "        self.size = 10\n",
    "        self.map = [None] * self.size\n",
    "def _get_hash(self,key):\n",
    "    if type(key) == int:\n",
    "        return key % self.size\n",
    "    elif type(key) == String:\n",
    "        return self._get_hash(key)\n",
    "    elif type(key) == tuple:\n",
    "        return self._get_hash(sum(key))\n",
    "HashMap._get_hash = _get_hash\n",
    "def get(self,key):\n",
    "    key_hash = self._get_hash(key)\n",
    "    if self.map[key_hash] is not None:\n",
    "        for pair in self.map[key_hash]:\n",
    "            if pair[0] == key:\n",
    "                return pair[1]\n",
    "    raise KeyError(str(key))\n",
    "HashMap.get = get\n",
    "def __str__(self):\n",
    "    ret = \"\"\n",
    "    for i,item in enumerate(self.map):\n",
    "        if item is not None:\n",
    "            ret += str(i) +\": \" + str(item) + \"\\n\"\n",
    "    return ret\n",
    "HashMap.__str__ = __str__\n",
    "def add(self,key,value):\n",
    "    key_hash = self._get_hash(key)\n",
    "    key_value = [key,value]\n",
    "    if self.map[key_hash] is None:\n",
    "        self.map[key_hash]= [key_value]\n",
    "        return True\n",
    "    for i in self.map[key_hash]:\n",
    "        if i[0] == key:\n",
    "            i[1] = value\n",
    "            return True\n",
    "    \n",
    "    self.map[key_hash].append(key_value)\n",
    "    return True\n",
    "HashMap.add = add\n",
    "def delete(self, key):\n",
    "    key_hash = self._get_hash(key)\n",
    "    \n",
    "    for idx,key_value in enumerate(self.map[key_hash]):\n",
    "        if key_value[0] == key:\n",
    "            self.map[key_hash].pop(idx)\n",
    "            return True\n",
    "HashMap.delete = delete"
   ]
  },
  {
   "cell_type": "code",
   "execution_count": 26,
   "metadata": {},
   "outputs": [],
   "source": [
    "def get(self,key):\n",
    "    key_hash = self._get_hash(key)\n",
    "    if self.map[key_hash] is not None:\n",
    "        for pair in self.map[key_hash]:\n",
    "            if pair[0] == key:\n",
    "                return pair[1]\n",
    "    raise KeyError(str(key))\n",
    "HashMap.get = get"
   ]
  },
  {
   "cell_type": "code",
   "execution_count": 27,
   "metadata": {},
   "outputs": [
    {
     "name": "stdout",
     "output_type": "stream",
     "text": [
      "0 a\n",
      "1 b\n",
      "2 c\n"
     ]
    }
   ],
   "source": [
    "l = [\"a\",\"b\",\"c\"]\n",
    "for i,items in enumerate(l):\n",
    "    print(i,items)"
   ]
  },
  {
   "cell_type": "code",
   "execution_count": 28,
   "metadata": {},
   "outputs": [],
   "source": [
    "def __str__(self):\n",
    "    ret = \"\"\n",
    "    for i,item in enumerate(self.map):\n",
    "        if item is not None:\n",
    "            ret += str(i) +\": \" + str(item) + \"\\n\"\n",
    "    return ret\n",
    "HashMap.__str__ = __str__"
   ]
  },
  {
   "cell_type": "code",
   "execution_count": 29,
   "metadata": {},
   "outputs": [],
   "source": [
    "l = [None]\n",
    "if l is None:\n",
    "    print(\"list is None\")"
   ]
  },
  {
   "cell_type": "code",
   "execution_count": 30,
   "metadata": {},
   "outputs": [],
   "source": [
    "l = [None] * 3"
   ]
  },
  {
   "cell_type": "code",
   "execution_count": 31,
   "metadata": {},
   "outputs": [
    {
     "name": "stdout",
     "output_type": "stream",
     "text": [
      "[None, None, None]\n"
     ]
    }
   ],
   "source": [
    "print(l)"
   ]
  },
  {
   "cell_type": "code",
   "execution_count": 32,
   "metadata": {},
   "outputs": [],
   "source": [
    "l[1] = [4,\"val\"]"
   ]
  },
  {
   "cell_type": "code",
   "execution_count": 33,
   "metadata": {},
   "outputs": [],
   "source": [
    "l[1].append([5,\"val\"])"
   ]
  },
  {
   "cell_type": "code",
   "execution_count": 34,
   "metadata": {},
   "outputs": [
    {
     "name": "stdout",
     "output_type": "stream",
     "text": [
      "[None, [4, 'val', [5, 'val']], None]\n"
     ]
    }
   ],
   "source": [
    "print(l)"
   ]
  },
  {
   "cell_type": "code",
   "execution_count": 35,
   "metadata": {},
   "outputs": [],
   "source": [
    "def add(self,key,value):\n",
    "    key_hash = self._get_hash(key)\n",
    "    key_value = [key,value]\n",
    "    if self.map[key_hash] is None:\n",
    "        self.map[key_hash]= [key_value]\n",
    "        return True\n",
    "    for i in self.map[key_hash]:\n",
    "        if i[0] == key:\n",
    "            i[1] = value\n",
    "            return True\n",
    "    \n",
    "    self.map[key_hash].append(key_value)\n",
    "    return True\n",
    "HashMap.add = add"
   ]
  },
  {
   "cell_type": "code",
   "execution_count": 36,
   "metadata": {},
   "outputs": [],
   "source": [
    "def delete(self, key):\n",
    "    key_hash = self._get_hash(key)\n",
    "    \n",
    "    for idx,key_value in enumerate(self.map[key_hash]):\n",
    "        if key_value[0] == key:\n",
    "            self.map[key_hash].pop(idx)\n",
    "            return True\n",
    "HashMap.delete = delete"
   ]
  },
  {
   "cell_type": "code",
   "execution_count": 37,
   "metadata": {},
   "outputs": [],
   "source": [
    "h = HashMap()"
   ]
  },
  {
   "cell_type": "code",
   "execution_count": 38,
   "metadata": {},
   "outputs": [
    {
     "data": {
      "text/plain": [
       "True"
      ]
     },
     "execution_count": 38,
     "metadata": {},
     "output_type": "execute_result"
    }
   ],
   "source": [
    "h.add(2,\"two\")\n",
    "h.add(3,\"three\")"
   ]
  },
  {
   "cell_type": "code",
   "execution_count": 39,
   "metadata": {
    "scrolled": true
   },
   "outputs": [
    {
     "data": {
      "text/plain": [
       "True"
      ]
     },
     "execution_count": 39,
     "metadata": {},
     "output_type": "execute_result"
    }
   ],
   "source": [
    "h.delete(2)"
   ]
  },
  {
   "cell_type": "code",
   "execution_count": 40,
   "metadata": {},
   "outputs": [
    {
     "name": "stdout",
     "output_type": "stream",
     "text": [
      "2: []\n",
      "3: [[3, 'three']]\n",
      "\n"
     ]
    }
   ],
   "source": [
    "print(h)"
   ]
  },
  {
   "cell_type": "code",
   "execution_count": 41,
   "metadata": {},
   "outputs": [
    {
     "data": {
      "text/plain": [
       "56"
      ]
     },
     "execution_count": 41,
     "metadata": {},
     "output_type": "execute_result"
    }
   ],
   "source": [
    "int(\"56\")"
   ]
  },
  {
   "cell_type": "code",
   "execution_count": 42,
   "metadata": {},
   "outputs": [
    {
     "data": {
      "text/plain": [
       "int"
      ]
     },
     "execution_count": 42,
     "metadata": {},
     "output_type": "execute_result"
    }
   ],
   "source": [
    "type(int(\"56\"))"
   ]
  },
  {
   "cell_type": "code",
   "execution_count": 44,
   "metadata": {},
   "outputs": [
    {
     "data": {
      "text/plain": [
       "str"
      ]
     },
     "execution_count": 44,
     "metadata": {},
     "output_type": "execute_result"
    }
   ],
   "source": [
    "type(\"string\")"
   ]
  },
  {
   "cell_type": "code",
   "execution_count": 45,
   "metadata": {},
   "outputs": [
    {
     "data": {
      "text/plain": [
       "65"
      ]
     },
     "execution_count": 45,
     "metadata": {},
     "output_type": "execute_result"
    }
   ],
   "source": [
    "ord(\"A\")"
   ]
  },
  {
   "cell_type": "code",
   "execution_count": 55,
   "metadata": {},
   "outputs": [
    {
     "name": "stdout",
     "output_type": "stream",
     "text": [
      "case: 1\n",
      "key_hash is : 7\n",
      "case: 1\n",
      "key_hash is : 6\n",
      "case: 1\n",
      "key_hash is : 5\n",
      "case: 1\n",
      "key_hash is : 5\n",
      "case: 1\n",
      "key_hash is : 6\n",
      "case: 1\n",
      "key_hash is : 7\n",
      "5: [[35, 'thirty five'], [25, 'twenty five']]\n",
      "6: [[26, 'twenty six updated']]\n",
      "7: [[17, 'seventeen'], [887, 'large number']]\n",
      "\n"
     ]
    }
   ],
   "source": [
    "class HashMap:\n",
    "    def __init__(self):\n",
    "        self.size = 10\n",
    "        self.map = [None] * self.size\n",
    "\n",
    "def _get_hash(self,key):\n",
    "    if type(key) == int:\n",
    "        print(\"case: 1\")\n",
    "        return key % self.size\n",
    "    elif type(key) == str:\n",
    "        asscii = ord(key[0])\n",
    "        print(\"case: 2\")\n",
    "        return asscii % self.size\n",
    "    elif type(key) == tuple:\n",
    "        print(\"case: 3\")\n",
    "        return sum(key) % self.size\n",
    "HashMap._get_hash = _get_hash\n",
    "\n",
    "def get(self,key):\n",
    "    key_hash = self._get_hash(key)\n",
    "    if self.map[key_hash] is not None:\n",
    "        for pair in self.map[key_hash]:\n",
    "            if pair[0] == key:\n",
    "                return pair[1]\n",
    "    raise KeyError(str(key))\n",
    "HashMap.get = get\n",
    "\n",
    "def __str__(self):\n",
    "    ret = \"\"\n",
    "    for i,item in enumerate(self.map):\n",
    "        if item is not None:\n",
    "            ret += str(i) +\": \" + str(item) + \"\\n\"\n",
    "    return ret\n",
    "HashMap.__str__ = __str__\n",
    "\n",
    "def add(self,key,value):\n",
    "\n",
    "    key_hash = self._get_hash(key)\n",
    "    key_value = [key,value]\n",
    "    print(\"key_hash is :\",key_hash)\n",
    "    if self.map[key_hash] is None:\n",
    "        self.map[key_hash]= [key_value]\n",
    "        return True\n",
    "\n",
    "    else:\n",
    "        for i in self.map[key_hash]:\n",
    "            if i[0] == key:\n",
    "                i[1] = value\n",
    "                return True\n",
    "    \n",
    "    self.map[key_hash].append(key_value)\n",
    "    return True\n",
    "HashMap.add = add\n",
    "\n",
    "def delete(self, key):\n",
    "    key_hash = self._get_hash(key)\n",
    "    \n",
    "    for idx,key_value in enumerate(self.map[key_hash]):\n",
    "        if key_value[0] == key:\n",
    "            self.map[key_hash].pop(idx)\n",
    "            return True\n",
    "HashMap.delete = delete\n",
    "\n",
    "\n",
    "\n",
    "if __name__ == '__main__': \n",
    "    h = HashMap() \n",
    "\n",
    "    h.add(17, \"seventeen\")\n",
    "    h.add(26, \"twenty six\")\n",
    "    h.add(35, \"thirty five\")\n",
    "    h.add(25, \"twenty five\")\n",
    "    h.add(26, \"twenty six updated\")\n",
    "    h.add(887, \"large number\")\n",
    "\n",
    "    print(h)\n"
   ]
  },
  {
   "cell_type": "code",
   "execution_count": 56,
   "metadata": {},
   "outputs": [],
   "source": [
    "h = HashMap()"
   ]
  },
  {
   "cell_type": "code",
   "execution_count": 57,
   "metadata": {},
   "outputs": [
    {
     "name": "stdout",
     "output_type": "stream",
     "text": [
      "key_hash is : None\n"
     ]
    },
    {
     "ename": "TypeError",
     "evalue": "list indices must be integers or slices, not NoneType",
     "output_type": "error",
     "traceback": [
      "\u001b[0;31m---------------------------------------------------------------------------\u001b[0m",
      "\u001b[0;31mTypeError\u001b[0m                                 Traceback (most recent call last)",
      "\u001b[0;32m<ipython-input-57-795ee571197d>\u001b[0m in \u001b[0;36m<module>\u001b[0;34m\u001b[0m\n\u001b[0;32m----> 1\u001b[0;31m \u001b[0mh\u001b[0m\u001b[0;34m.\u001b[0m\u001b[0madd\u001b[0m\u001b[0;34m(\u001b[0m\u001b[0;34m\"blahd\"\u001b[0m\u001b[0;34m,\u001b[0m \u001b[0;34m\"blahd text\"\u001b[0m\u001b[0;34m)\u001b[0m\u001b[0;34m\u001b[0m\u001b[0;34m\u001b[0m\u001b[0m\n\u001b[0m",
      "\u001b[0;32m<ipython-input-55-a745e6a6aec1>\u001b[0m in \u001b[0;36madd\u001b[0;34m(self, key, value)\u001b[0m\n\u001b[1;32m     39\u001b[0m     \u001b[0mkey_value\u001b[0m \u001b[0;34m=\u001b[0m \u001b[0;34m[\u001b[0m\u001b[0mkey\u001b[0m\u001b[0;34m,\u001b[0m\u001b[0mvalue\u001b[0m\u001b[0;34m]\u001b[0m\u001b[0;34m\u001b[0m\u001b[0;34m\u001b[0m\u001b[0m\n\u001b[1;32m     40\u001b[0m     \u001b[0mprint\u001b[0m\u001b[0;34m(\u001b[0m\u001b[0;34m\"key_hash is :\"\u001b[0m\u001b[0;34m,\u001b[0m\u001b[0mkey_hash\u001b[0m\u001b[0;34m)\u001b[0m\u001b[0;34m\u001b[0m\u001b[0;34m\u001b[0m\u001b[0m\n\u001b[0;32m---> 41\u001b[0;31m     \u001b[0;32mif\u001b[0m \u001b[0mself\u001b[0m\u001b[0;34m.\u001b[0m\u001b[0mmap\u001b[0m\u001b[0;34m[\u001b[0m\u001b[0mkey_hash\u001b[0m\u001b[0;34m]\u001b[0m \u001b[0;32mis\u001b[0m \u001b[0;32mNone\u001b[0m\u001b[0;34m:\u001b[0m\u001b[0;34m\u001b[0m\u001b[0;34m\u001b[0m\u001b[0m\n\u001b[0m\u001b[1;32m     42\u001b[0m         \u001b[0mself\u001b[0m\u001b[0;34m.\u001b[0m\u001b[0mmap\u001b[0m\u001b[0;34m[\u001b[0m\u001b[0mkey_hash\u001b[0m\u001b[0;34m]\u001b[0m\u001b[0;34m=\u001b[0m \u001b[0;34m[\u001b[0m\u001b[0mkey_value\u001b[0m\u001b[0;34m]\u001b[0m\u001b[0;34m\u001b[0m\u001b[0;34m\u001b[0m\u001b[0m\n\u001b[1;32m     43\u001b[0m         \u001b[0;32mreturn\u001b[0m \u001b[0;32mTrue\u001b[0m\u001b[0;34m\u001b[0m\u001b[0;34m\u001b[0m\u001b[0m\n",
      "\u001b[0;31mTypeError\u001b[0m: list indices must be integers or slices, not NoneType"
     ]
    }
   ],
   "source": [
    "h.add(\"blahd\", \"blahd text\")"
   ]
  },
  {
   "cell_type": "code",
   "execution_count": null,
   "metadata": {},
   "outputs": [],
   "source": []
  }
 ],
 "metadata": {
  "kernelspec": {
   "display_name": "Python 3",
   "language": "python",
   "name": "python3"
  },
  "language_info": {
   "codemirror_mode": {
    "name": "ipython",
    "version": 3
   },
   "file_extension": ".py",
   "mimetype": "text/x-python",
   "name": "python",
   "nbconvert_exporter": "python",
   "pygments_lexer": "ipython3",
   "version": "3.7.3"
  }
 },
 "nbformat": 4,
 "nbformat_minor": 2
}
