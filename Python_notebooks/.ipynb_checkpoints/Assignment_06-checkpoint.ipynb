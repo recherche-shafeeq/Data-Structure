{
 "cells": [
  {
   "cell_type": "code",
   "execution_count": 2,
   "metadata": {},
   "outputs": [],
   "source": [
    "from graphviz import Digraph\n",
    "def visualize_tree(tree):\n",
    "    if tree is None: \n",
    "        return \"Nothing in the tree!\"\n",
    "def add_nodes_edges(tree, dot=None):\n",
    "    if dot is None:\n",
    "        dot = Digraph()\n",
    "        dot.attr(\"node\", shape=\"circle\")\n",
    "        dot.node(name=str(tree), label=str(tree.val))\n",
    "    for child in [tree.left, tree.right]: # do for all children\n",
    "        if child is not None:\n",
    "            if child == tree.left: dot.attr(\"node\", shape=\"circle\", style=\"filled\",\n",
    "                fillcolor=\"lightblue\")\n",
    "            if child == tree.right: dot.attr(\"node\", shape=\"doublecircle\", style=\"filled\",\n",
    "                fillcolor=\"seashell\")\n",
    "            dot.node(name=str(child) ,label=str(child.val))\n",
    "            dot.edge(str(tree), str(child))\n",
    "            dot = add_nodes_edges(child, dot=dot) # recursive call\n",
    "    return dot\n",
    "# Add nodes recursively and create a list of edges\n"
   ]
  },
  {
   "cell_type": "code",
   "execution_count": 3,
   "metadata": {},
   "outputs": [],
   "source": [
    "def print_tree(tree, level=0, label=\".\"):\n",
    "    print(\" \" * (level*2) + label + \":\", tree.val)\n",
    "    for child, lbl in zip([tree.left, tree.right], [\"L\", \"R\"]):\n",
    "        if child is not None:\n",
    "            print_tree(child, level+1, lbl)"
   ]
  },
  {
   "cell_type": "code",
   "execution_count": 4,
   "metadata": {},
   "outputs": [],
   "source": [
    "class TreeNode:\n",
    "    def __init__(self,val):\n",
    "        self.val = val\n",
    "        self.left = None\n",
    "        self.right = None"
   ]
  },
  {
   "cell_type": "code",
   "execution_count": 11,
   "metadata": {},
   "outputs": [],
   "source": [
    "def dfs(self):\n",
    "    \n",
    "    print(self.val)\n",
    "    \n",
    "    if self.left:\n",
    "        self.left.dfs()\n",
    "    \n",
    "    if self.right:\n",
    "        self.right.dfs()\n",
    "TreeNode.dfs = dfs"
   ]
  },
  {
   "cell_type": "code",
   "execution_count": 12,
   "metadata": {},
   "outputs": [],
   "source": [
    "def dfs_inorder(self):\n",
    "    \n",
    "    if self.left:\n",
    "        self.left.dfs_inorder()\n",
    "    \n",
    "    print(self.val)\n",
    "    \n",
    "    if self.right:\n",
    "        self.right.dfs_inorder()\n",
    "TreeNode.dfs_inorder = dfs_inorder"
   ]
  },
  {
   "cell_type": "code",
   "execution_count": 13,
   "metadata": {},
   "outputs": [],
   "source": [
    "def dfs_postorder(self):\n",
    "    \n",
    "    if self.left:\n",
    "        self.left.dfs_postorder()\n",
    "    \n",
    "    if self.right:\n",
    "        self.right.defs_postorder()\n",
    "    \n",
    "    print(self.val)\n",
    "TreeNode.dfs_postorder = dfs_postorder"
   ]
  },
  {
   "cell_type": "code",
   "execution_count": 8,
   "metadata": {},
   "outputs": [],
   "source": [
    "def dfs_apply(self,fn):\n",
    "    \n",
    "    fn(self)\n",
    "    \n",
    "    if self.left:\n",
    "        self.left.dfs_apply(fn)\n",
    "        \n",
    "    if self.right:\n",
    "        self.right.dfs_apply(fn)\n",
    "\n",
    "TreeNode.dfs_apply = dfs_apply"
   ]
  },
  {
   "cell_type": "code",
   "execution_count": 9,
   "metadata": {},
   "outputs": [],
   "source": [
    "class PerformSum:\n",
    "    def __init__(self):\n",
    "        self.sum = 0\n",
    "        \n",
    "    def process(self,node):\n",
    "        self.sum += node.val\n",
    "    \n",
    "    def get_sum(self):\n",
    "        return self.sum\n",
    "    \n",
    "    def reset_sum(self):\n",
    "        self.sum = 0"
   ]
  },
  {
   "cell_type": "code",
   "execution_count": 14,
   "metadata": {},
   "outputs": [],
   "source": [
    "def bfs(self):\n",
    "    to_visit = [self]\n",
    "    while to_visit:\n",
    "        current = to_visit.pop(0)\n",
    "        \n",
    "        if current.left:\n",
    "            to_visit.append(current.left)\n",
    "        if current.right:\n",
    "            to_visit.append(current.right)\n",
    "TreeNode.bfs = bfs"
   ]
  },
  {
   "cell_type": "code",
   "execution_count": 15,
   "metadata": {},
   "outputs": [],
   "source": [
    "class Person:\n",
    "    def __init__(self,name):\n",
    "        self.name = name\n",
    "    def __str__(self):\n",
    "        return self.name"
   ]
  },
  {
   "cell_type": "code",
   "execution_count": 93,
   "metadata": {},
   "outputs": [],
   "source": [
    "def find_val(self,val):\n",
    "    if self.val.name == val:\n",
    "        return self\n",
    "    if self.left:\n",
    "        node = self.left.find_val(val)\n",
    "        if node:\n",
    "            return node\n",
    "    if self.right:\n",
    "        node = self.right.find_val(val)\n",
    "        if node:\n",
    "            return node\n",
    "    return None\n",
    "TreeNode.find_val = find_val"
   ]
  },
  {
   "cell_type": "code",
   "execution_count": 45,
   "metadata": {},
   "outputs": [],
   "source": [
    "t = TreeNode(6)"
   ]
  },
  {
   "cell_type": "code",
   "execution_count": 46,
   "metadata": {},
   "outputs": [],
   "source": [
    "t.left = TreeNode(3)"
   ]
  },
  {
   "cell_type": "code",
   "execution_count": 47,
   "metadata": {},
   "outputs": [],
   "source": [
    "t.right = TreeNode(6)"
   ]
  },
  {
   "cell_type": "code",
   "execution_count": 48,
   "metadata": {},
   "outputs": [],
   "source": [
    "t.right.left = TreeNode(7)"
   ]
  },
  {
   "cell_type": "code",
   "execution_count": 49,
   "metadata": {},
   "outputs": [],
   "source": [
    "t.right.right = TreeNode(8)"
   ]
  },
  {
   "cell_type": "code",
   "execution_count": 50,
   "metadata": {},
   "outputs": [],
   "source": [
    "t.left.left = TreeNode(3)"
   ]
  },
  {
   "cell_type": "code",
   "execution_count": 51,
   "metadata": {},
   "outputs": [],
   "source": [
    "t.left.right = TreeNode("
   ]
  },
  {
   "cell_type": "code",
   "execution_count": 63,
   "metadata": {},
   "outputs": [],
   "source": [
    "s = t.find_val(6)"
   ]
  },
  {
   "cell_type": "code",
   "execution_count": 64,
   "metadata": {},
   "outputs": [
    {
     "data": {
      "text/plain": [
       "6"
      ]
     },
     "execution_count": 64,
     "metadata": {},
     "output_type": "execute_result"
    }
   ],
   "source": [
    "s.val"
   ]
  },
  {
   "cell_type": "code",
   "execution_count": 65,
   "metadata": {},
   "outputs": [
    {
     "name": "stdout",
     "output_type": "stream",
     "text": [
      "Director\n",
      "\n",
      "Section 2: \n",
      "Director\n",
      "HoD 1\n",
      "CS 1\n",
      "CS 2\n",
      "HoD 2\n",
      "EE 1\n",
      "EE 2\n",
      "\n",
      "Section 3: \n"
     ]
    },
    {
     "ename": "AttributeError",
     "evalue": "'NoneType' object has no attribute 'val'",
     "output_type": "error",
     "traceback": [
      "\u001b[0;31m---------------------------------------------------------------------------\u001b[0m",
      "\u001b[0;31mAttributeError\u001b[0m                            Traceback (most recent call last)",
      "\u001b[0;32m<ipython-input-65-ba0aa2141f46>\u001b[0m in \u001b[0;36m<module>\u001b[0;34m\u001b[0m\n\u001b[1;32m     26\u001b[0m \u001b[0;34m\u001b[0m\u001b[0m\n\u001b[1;32m     27\u001b[0m \u001b[0mnode\u001b[0m \u001b[0;34m=\u001b[0m \u001b[0mt_d\u001b[0m\u001b[0;34m.\u001b[0m\u001b[0mfind_val\u001b[0m\u001b[0;34m(\u001b[0m\u001b[0;34m\"Director\"\u001b[0m\u001b[0;34m)\u001b[0m\u001b[0;34m\u001b[0m\u001b[0;34m\u001b[0m\u001b[0m\n\u001b[0;32m---> 28\u001b[0;31m \u001b[0mprint\u001b[0m\u001b[0;34m(\u001b[0m\u001b[0mnode\u001b[0m\u001b[0;34m.\u001b[0m\u001b[0mval\u001b[0m\u001b[0;34m)\u001b[0m  \u001b[0;31m# should print the string: Director\u001b[0m\u001b[0;34m\u001b[0m\u001b[0;34m\u001b[0m\u001b[0m\n\u001b[0m\u001b[1;32m     29\u001b[0m \u001b[0;34m\u001b[0m\u001b[0m\n\u001b[1;32m     30\u001b[0m \u001b[0;34m\u001b[0m\u001b[0m\n",
      "\u001b[0;31mAttributeError\u001b[0m: 'NoneType' object has no attribute 'val'"
     ]
    }
   ],
   "source": [
    "director = Person(\"Director\")\n",
    "hod_1 = Person(\"HoD 1\")\n",
    "hod_2 = Person(\"HoD 2\")\n",
    "faculty_cs_1 = Person(\"CS 1\")\n",
    "faculty_cs_2 = Person(\"CS 2\")\n",
    "faculty_ee_1 = Person(\"EE 1\")\n",
    "faculty_ee_2 = Person(\"EE 2\")\n",
    "print(director) # should print: Director\n",
    "\n",
    "    # # Section 2: inserting people in the tree \n",
    "print(\"\\nSection 2: \")\n",
    "t_d = TreeNode(director)\n",
    "t_d.left = TreeNode(hod_1)\n",
    "t_d.right = TreeNode(hod_2)\n",
    "\n",
    "t_d.left.left = TreeNode(faculty_cs_1)\n",
    "t_d.left.right = TreeNode(faculty_cs_2)\n",
    "\n",
    "t_d.right.left = TreeNode(faculty_ee_1)\n",
    "t_d.right.right = TreeNode(faculty_ee_2)\n",
    "t_d.dfs()\n",
    "\n",
    "\n",
    "    # # Section 3: try find_val individually \n",
    "print(\"\\nSection 3: \")\n",
    "\n",
    "node = t_d.find_val(\"Director\")\n",
    "print(node.val)  # should print the string: Director\n",
    "\n",
    "\n",
    "node = t_d.find_val(\"HoD 1\")\n",
    "print(node.val)  # should print the string: HoD 1\n",
    "\n",
    "node = t_d.find_val(\"HoD 2\")\n",
    "print(node.val)  # should print the string: HoD 2\n",
    "\n",
    "node = t_d.find_val(\"HoD 3\")\n",
    "print(node)"
   ]
  },
  {
   "cell_type": "code",
   "execution_count": 67,
   "metadata": {},
   "outputs": [
    {
     "name": "stdout",
     "output_type": "stream",
     "text": [
      ".: 6\n",
      "  L: 3\n",
      "    L: 3\n",
      "    R: 3\n",
      "  R: 6\n",
      "    L: 7\n",
      "    R: 8\n"
     ]
    }
   ],
   "source": [
    "print_tree(t)"
   ]
  },
  {
   "cell_type": "code",
   "execution_count": 68,
   "metadata": {},
   "outputs": [],
   "source": [
    "t = TreeNode(1)"
   ]
  },
  {
   "cell_type": "code",
   "execution_count": 72,
   "metadata": {},
   "outputs": [],
   "source": [
    "t.left.left = TreeNode(4)"
   ]
  },
  {
   "cell_type": "code",
   "execution_count": 73,
   "metadata": {},
   "outputs": [],
   "source": [
    "t.right.left = TreeNode(5)"
   ]
  },
  {
   "cell_type": "code",
   "execution_count": 74,
   "metadata": {},
   "outputs": [
    {
     "name": "stdout",
     "output_type": "stream",
     "text": [
      ".: 1\n",
      "  L: 2\n",
      "    R: 4\n",
      "  R: 3\n",
      "    L: 5\n",
      "    R: 5\n"
     ]
    }
   ],
   "source": [
    "print_tree(t)"
   ]
  },
  {
   "cell_type": "code",
   "execution_count": 78,
   "metadata": {},
   "outputs": [],
   "source": [
    "s = t.find_val(2)"
   ]
  },
  {
   "cell_type": "code",
   "execution_count": 79,
   "metadata": {},
   "outputs": [
    {
     "data": {
      "text/plain": [
       "2"
      ]
     },
     "execution_count": 79,
     "metadata": {},
     "output_type": "execute_result"
    }
   ],
   "source": [
    "s.val"
   ]
  },
  {
   "cell_type": "code",
   "execution_count": 80,
   "metadata": {},
   "outputs": [],
   "source": [
    "t = TreeNode(\"Director\")"
   ]
  },
  {
   "cell_type": "code",
   "execution_count": 84,
   "metadata": {},
   "outputs": [],
   "source": [
    "t.right = TreeNode(\"HoD 2\")"
   ]
  },
  {
   "cell_type": "code",
   "execution_count": 86,
   "metadata": {},
   "outputs": [],
   "source": [
    "t.right.right = TreeNode(\"EE 2\")"
   ]
  },
  {
   "cell_type": "code",
   "execution_count": 87,
   "metadata": {},
   "outputs": [
    {
     "name": "stdout",
     "output_type": "stream",
     "text": [
      ".: Director\n",
      "  L: HoD 1\n",
      "    L: CS 1\n",
      "    R: CS 2\n",
      "  R: HoD 2\n",
      "    L: EE 1\n",
      "    R: EE 2\n"
     ]
    }
   ],
   "source": [
    "print_tree(t)"
   ]
  },
  {
   "cell_type": "code",
   "execution_count": 91,
   "metadata": {},
   "outputs": [],
   "source": [
    "node = t.find_val(\"Director\")"
   ]
  },
  {
   "cell_type": "code",
   "execution_count": 92,
   "metadata": {},
   "outputs": [
    {
     "data": {
      "text/plain": [
       "'Director'"
      ]
     },
     "execution_count": 92,
     "metadata": {},
     "output_type": "execute_result"
    }
   ],
   "source": [
    "node.val"
   ]
  },
  {
   "cell_type": "code",
   "execution_count": 96,
   "metadata": {},
   "outputs": [],
   "source": [
    "class Collector:\n",
    "    def __init__(self):\n",
    "        self.list = []\n",
    "    def get_list(self):\n",
    "        return self.list\n",
    "    def process(self.node):\n",
    "        self.list.append(node.val)\n",
    "    def reset_list(self):\n",
    "        self.list = []"
   ]
  },
  {
   "cell_type": "code",
   "execution_count": 97,
   "metadata": {},
   "outputs": [
    {
     "name": "stdout",
     "output_type": "stream",
     "text": [
      "[5]\n"
     ]
    }
   ],
   "source": [
    "l = []\n",
    "l.append(5)\n",
    "print(l)"
   ]
  },
  {
   "cell_type": "code",
   "execution_count": 99,
   "metadata": {},
   "outputs": [],
   "source": [
    "def find_people_in_heirarchy(self,string):\n",
    "    node = self.find_val(string)\n",
    "    c = Collector()\n",
    "    if node is None:\n",
    "        raise ValueError(\"could not find the value\")\n",
    "    node.dfs_apply(c.process)\n",
    "    return c.get_list()"
   ]
  },
  {
   "cell_type": "code",
   "execution_count": null,
   "metadata": {},
   "outputs": [],
   "source": []
  }
 ],
 "metadata": {
  "kernelspec": {
   "display_name": "Python 3",
   "language": "python",
   "name": "python3"
  },
  "language_info": {
   "codemirror_mode": {
    "name": "ipython",
    "version": 3
   },
   "file_extension": ".py",
   "mimetype": "text/x-python",
   "name": "python",
   "nbconvert_exporter": "python",
   "pygments_lexer": "ipython3",
   "version": "3.7.3"
  }
 },
 "nbformat": 4,
 "nbformat_minor": 2
}
