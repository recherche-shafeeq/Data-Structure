{
 "cells": [
  {
   "cell_type": "code",
   "execution_count": 4,
   "metadata": {},
   "outputs": [],
   "source": [
    "def bubble_sort(l):\n",
    "    n = len(l)\n",
    "    \n",
    "    for i in range(n):\n",
    "        for j in range(0,(n-i)-1):\n",
    "            if l[j] > l[j+1]:\n",
    "                l[j],l[j+1] = l[j+1], l[j]"
   ]
  },
  {
   "cell_type": "code",
   "execution_count": 6,
   "metadata": {},
   "outputs": [
    {
     "name": "stdout",
     "output_type": "stream",
     "text": [
      "[1, 1, 1, 2, 2, 4, 5, 5, 5, 6, 15, 110]\n"
     ]
    }
   ],
   "source": [
    "l = [1,2,4,5,1,2,5,5,6,1,110,15]\n",
    "bubble_sort(l)\n",
    "print(l)"
   ]
  },
  {
   "cell_type": "code",
   "execution_count": 9,
   "metadata": {},
   "outputs": [],
   "source": [
    "def insertion_sort(l):\n",
    "    \n",
    "    for i in range(1,len(l)):\n",
    "        key = l[i]\n",
    "        \n",
    "        j = i-1\n",
    "        while j >= 0 and key < l[j]:\n",
    "            l[j+1] = l[j]\n",
    "            j -= 1\n",
    "        l[j+1] = key"
   ]
  },
  {
   "cell_type": "code",
   "execution_count": 10,
   "metadata": {},
   "outputs": [
    {
     "name": "stdout",
     "output_type": "stream",
     "text": [
      "[1, 1, 1, 2, 2, 4, 5, 5, 5, 6, 15, 110]\n"
     ]
    }
   ],
   "source": [
    "l = [1,2,4,5,1,2,5,5,6,1,110,15]\n",
    "insertion_sort(l)\n",
    "print(l)"
   ]
  },
  {
   "cell_type": "code",
   "execution_count": 11,
   "metadata": {},
   "outputs": [],
   "source": [
    "def selection_sort(l):\n",
    "    n = len(l)\n",
    "    \n",
    "    for i in range(n):\n",
    "        min_idx = i\n",
    "        for j in range( i+1,n ):\n",
    "            if l[j] < l[min_idx]:\n",
    "                min_idx = j\n",
    "        l[i],l[min_idx] = l[min_idx], l[i]"
   ]
  },
  {
   "cell_type": "code",
   "execution_count": 11,
   "metadata": {},
   "outputs": [],
   "source": [
    "def bubble_sort(l):\n",
    "    n = len(l)\n",
    "    for i in range(n):\n",
    "        for j in range(0,(n-i)-1):\n",
    "            if l[j] < l[j+1]:\n",
    "                l[j],l[j+1] = l[j+1],l[j]"
   ]
  },
  {
   "cell_type": "code",
   "execution_count": 12,
   "metadata": {},
   "outputs": [
    {
     "name": "stdout",
     "output_type": "stream",
     "text": [
      "[1, 2, 4, 5, 1, 2, 5, 5, 6, 1, 110, 15]\n",
      "[110, 15, 6, 5, 5, 5, 4, 2, 2, 1, 1, 1]\n"
     ]
    }
   ],
   "source": [
    "l = [1,2,4,5,1,2,5,5,6,1,110,15]\n",
    "print(l)\n",
    "bubble_sort(l)\n",
    "print(l)"
   ]
  },
  {
   "cell_type": "code",
   "execution_count": 5,
   "metadata": {},
   "outputs": [],
   "source": [
    "def selection_sort(l):\n",
    "    n = len(l)\n",
    "    for i in range(n):\n",
    "        max_idx = i\n",
    "        for j in range(i+1,n):\n",
    "            if l[j] > l[max_idx]:\n",
    "                max_idx = j\n",
    "        l[i],l[max_idx] = l[max_idx],l[i]"
   ]
  },
  {
   "cell_type": "code",
   "execution_count": 6,
   "metadata": {},
   "outputs": [
    {
     "name": "stdout",
     "output_type": "stream",
     "text": [
      "[1, 2, 4, 5, 1, 2, 5, 5, 6, 1, 110, 15]\n",
      "[110, 15, 6, 5, 5, 5, 4, 2, 2, 1, 1, 1]\n"
     ]
    }
   ],
   "source": [
    "l = [1,2,4,5,1,2,5,5,6,1,110,15]\n",
    "print(l)\n",
    "selection_sort(l)\n",
    "print(l)"
   ]
  },
  {
   "cell_type": "code",
   "execution_count": 2,
   "metadata": {},
   "outputs": [],
   "source": [
    "import random\n",
    "def q_sort(l,fst,lst):\n",
    "    if fst >= lst: return\n",
    "    \n",
    "    i,j = fst,lst\n",
    "    pivot = l[random.randint(fst,lst)]\n",
    "    \n",
    "    while i <= j:\n",
    "        while l[i] > pivot: i += 1\n",
    "        while l[j] < pivot: j -= 1\n",
    "        if i <= j:\n",
    "            l[i],l[j] = l[j],l[i]\n",
    "            i,j = i+1,j-1\n",
    "    q_sort(l,fst,j)\n",
    "    q_sort(l,i,lst)"
   ]
  },
  {
   "cell_type": "code",
   "execution_count": 3,
   "metadata": {},
   "outputs": [
    {
     "name": "stdout",
     "output_type": "stream",
     "text": [
      "[1, 2, 4, 5, 1, 2, 5, 5, 6, 1, 110, 15]\n",
      "[110, 15, 6, 5, 5, 5, 4, 2, 2, 1, 1, 1]\n"
     ]
    }
   ],
   "source": [
    "l = [1,2,4,5,1,2,5,5,6,1,110,15]\n",
    "print(l)\n",
    "q_sort(l,0,len(l)-1)\n",
    "print(l)"
   ]
  },
  {
   "cell_type": "code",
   "execution_count": 15,
   "metadata": {},
   "outputs": [],
   "source": [
    "def selection_sort(l,compare_with):\n",
    "    for i in range(len(l)):\n",
    "        idx = i\n",
    "        for j in range(i+1,len(l)):\n",
    "            if compare_with(l[j] > l[idx]):\n",
    "                idx = j\n",
    "        l[i],l[idx] = l[idx],l[i]"
   ]
  },
  {
   "cell_type": "code",
   "execution_count": 14,
   "metadata": {},
   "outputs": [
    {
     "name": "stdout",
     "output_type": "stream",
     "text": [
      "[1, 2, 4, 5, 1, 2, 5, 5, 6, 1, 110, 15]\n",
      "[110, 15, 6, 5, 5, 5, 4, 2, 2, 1, 1, 1]\n"
     ]
    }
   ],
   "source": [
    "l = [1,2,4,5,1,2,5,5,6,1,110,15]\n",
    "print(l)\n",
    "selection_sort(l)\n",
    "print(l)"
   ]
  },
  {
   "cell_type": "code",
   "execution_count": 16,
   "metadata": {},
   "outputs": [],
   "source": [
    "def les_than_tuple(a ,b):\n",
    "    return sum(a) < sum(b)"
   ]
  },
  {
   "cell_type": "code",
   "execution_count": null,
   "metadata": {},
   "outputs": [],
   "source": []
  }
 ],
 "metadata": {
  "kernelspec": {
   "display_name": "Python 3",
   "language": "python",
   "name": "python3"
  },
  "language_info": {
   "codemirror_mode": {
    "name": "ipython",
    "version": 3
   },
   "file_extension": ".py",
   "mimetype": "text/x-python",
   "name": "python",
   "nbconvert_exporter": "python",
   "pygments_lexer": "ipython3",
   "version": "3.7.3"
  }
 },
 "nbformat": 4,
 "nbformat_minor": 2
}
