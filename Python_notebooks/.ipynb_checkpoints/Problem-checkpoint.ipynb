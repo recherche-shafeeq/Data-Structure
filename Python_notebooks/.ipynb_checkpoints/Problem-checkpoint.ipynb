{
 "cells": [
  {
   "cell_type": "code",
   "execution_count": 5,
   "metadata": {},
   "outputs": [],
   "source": [
    "def build_heap(lst):\n",
    "    n = len(lst)\n",
    "    for i in reversed(range(n//2)):\n",
    "        heapify(lst,n,i)\n",
    "\n",
    "def heapify(lst,n,root):\n",
    "    \n",
    "    largest = root\n",
    "    left = 2*root + 1\n",
    "    right = 2*root + 2\n",
    "    \n",
    "    if left < n and lst[left] > lst[largest]:\n",
    "        largest = left\n",
    "    \n",
    "    if right < n and lst[right] > lst[largest]:\n",
    "        largest = right\n",
    "    \n",
    "    if root != largest:\n",
    "        lst[root],lst[largest] = lst[largest],lst[root]\n",
    "        heapify(lst,n,largest)\n",
    "\n",
    "def heap_sort(lst):\n",
    "    \n",
    "    n = len(lst)\n",
    "    \n",
    "    build_heap(lst)\n",
    "    for i in reversed(range(n)):\n",
    "        lst[i],lst[0] = lst[0],lst[i]\n",
    "        heapify(lst,i,0)"
   ]
  },
  {
   "cell_type": "code",
   "execution_count": null,
   "metadata": {},
   "outputs": [],
   "source": []
  }
 ],
 "metadata": {
  "kernelspec": {
   "display_name": "Python 3",
   "language": "python",
   "name": "python3"
  },
  "language_info": {
   "codemirror_mode": {
    "name": "ipython",
    "version": 3
   },
   "file_extension": ".py",
   "mimetype": "text/x-python",
   "name": "python",
   "nbconvert_exporter": "python",
   "pygments_lexer": "ipython3",
   "version": "3.7.3"
  }
 },
 "nbformat": 4,
 "nbformat_minor": 2
}
