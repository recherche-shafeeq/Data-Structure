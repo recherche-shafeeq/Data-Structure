{
 "cells": [
  {
   "cell_type": "code",
   "execution_count": 1,
   "metadata": {},
   "outputs": [
    {
     "ename": "AttributeError",
     "evalue": "'HashMap' object has no attribute 'add'",
     "output_type": "error",
     "traceback": [
      "\u001b[0;31m---------------------------------------------------------------------------\u001b[0m",
      "\u001b[0;31mAttributeError\u001b[0m                            Traceback (most recent call last)",
      "\u001b[0;32m<ipython-input-1-74e64de8f286>\u001b[0m in \u001b[0;36m<module>\u001b[0;34m\u001b[0m\n\u001b[1;32m     68\u001b[0m \u001b[0;34m\u001b[0m\u001b[0m\n\u001b[1;32m     69\u001b[0m \u001b[0;34m\u001b[0m\u001b[0m\n\u001b[0;32m---> 70\u001b[0;31m \u001b[0mh\u001b[0m\u001b[0;34m.\u001b[0m\u001b[0madd\u001b[0m\u001b[0;34m(\u001b[0m\u001b[0;36m17\u001b[0m\u001b[0;34m,\u001b[0m \u001b[0;34m\"Seventeen\"\u001b[0m\u001b[0;34m)\u001b[0m\u001b[0;34m\u001b[0m\u001b[0;34m\u001b[0m\u001b[0m\n\u001b[0m\u001b[1;32m     71\u001b[0m \u001b[0mh\u001b[0m\u001b[0;34m.\u001b[0m\u001b[0madd\u001b[0m\u001b[0;34m(\u001b[0m\u001b[0;36m26\u001b[0m\u001b[0;34m,\u001b[0m \u001b[0;34m\"Twenty Six\"\u001b[0m\u001b[0;34m)\u001b[0m\u001b[0;34m\u001b[0m\u001b[0;34m\u001b[0m\u001b[0m\n\u001b[1;32m     72\u001b[0m \u001b[0mh\u001b[0m\u001b[0;34m.\u001b[0m\u001b[0madd\u001b[0m\u001b[0;34m(\u001b[0m\u001b[0;36m35\u001b[0m\u001b[0;34m,\u001b[0m \u001b[0;34m\"Thirty Five\"\u001b[0m\u001b[0;34m)\u001b[0m\u001b[0;34m\u001b[0m\u001b[0;34m\u001b[0m\u001b[0m\n",
      "\u001b[0;31mAttributeError\u001b[0m: 'HashMap' object has no attribute 'add'"
     ]
    }
   ],
   "source": [
    "\n",
    "\n",
    "\n",
    "# In[31]:\n",
    "\n",
    "\n",
    "\n",
    "\n",
    "\n",
    "# In[32]:\n",
    "\n",
    "\n",
    "# def add(self, key, value):\n",
    "#     key_hash = self._get_hash(key)\n",
    "#     key_value = [key, value]\n",
    "    \n",
    "#     self.map[key_hash] = [ key_value ]\n",
    "#     return True\n",
    "\n",
    "# HashMap.add = add\n",
    "\n",
    "\n",
    "# In[33]:\n",
    "\n",
    "\n",
    "\n",
    "\n",
    "# In[34]:\n",
    "\n",
    "\n",
    "\n",
    "\n",
    "# In[38]:\n",
    "\n",
    "\n",
    "h = HashMap()\n",
    "\n",
    "\n",
    "# In[39]:\n",
    "\n",
    "\n",
    "h.add(17, \"Seventeen\")\n",
    "h.add(26, \"Twenty Six\")\n",
    "h.add(35, \"Thirty Five\")\n",
    "h.add(26, \"Twenty Six Updated\")\n",
    "h.add((22, 2), \"Hello\")\n",
    "\n",
    "\n",
    "# In[22]:\n",
    "\n",
    "\n",
    "print(h)\n",
    "\n",
    "\n",
    "# In[57]:\n",
    "\n",
    "\n",
    "print(h.get(26))\n",
    "\n",
    "\n",
    "# In[37]:\n",
    "\n",
    "\n",
    "\n",
    "\n",
    "# In[10]:\n",
    "\n",
    "\n",
    "\n",
    "\n",
    "\n",
    "# In[11]:\n",
    "\n",
    "\n",
    "h = HashMap()\n",
    "\n",
    "h.add('Three', 3)\n",
    "h.add(17, \"Seventeen\")\n",
    "h.add(26, \"Twenty Six\")\n",
    "h.add(35, \"Thirty Five\")\n",
    "h.add(25, \"Twenty Five\")\n",
    "h.add(26, \"Twenty Six Updated\")\n",
    "h.add(36, \"Thirty Six\")\n",
    "h.add((24,2), 'tuple text')\n",
    "\n",
    "print(h)\n",
    "\n",
    "h.delete(17)\n",
    "print(h)\n",
    "\n",
    "\n",
    "# In[ ]:\n",
    "\n",
    "\n",
    "\n",
    "\n",
    "\n",
    "# In[ ]:\n",
    "\n",
    "\n",
    "\n",
    "\n"
   ]
  },
  {
   "cell_type": "code",
   "execution_count": 2,
   "metadata": {},
   "outputs": [],
   "source": [
    "class HashMap:\n",
    "    def __init__(self):\n",
    "        self.size = 10\n",
    "        self.map = [ None ] * self.size"
   ]
  },
  {
   "cell_type": "code",
   "execution_count": 26,
   "metadata": {},
   "outputs": [],
   "source": [
    "def _get_hash(self, key):\n",
    "    if type(key) is str:\n",
    "        print(\"came to string if\")\n",
    "        return len(key) % self.size\n",
    "    elif type(key) is int:\n",
    "        print(\"came to int if\")\n",
    "        return key % self.size\n",
    "    else:\n",
    "        tuple_key = key[0]\n",
    "        print(tuple_key)\n",
    "        return self._get_hash(tuple_key)\n",
    "HashMap._get_hash = _get_hash"
   ]
  },
  {
   "cell_type": "code",
   "execution_count": 27,
   "metadata": {},
   "outputs": [],
   "source": [
    "def get(self, key):\n",
    "    key_hash = self._get_hash(key)\n",
    "    \n",
    "    if self.map[key_hash] is not None:\n",
    "        for pair in self.map[key_hash]:\n",
    "            if pair[0] == key:\n",
    "                return pair[1]\n",
    "    raise KeyError(str(key))\n",
    "HashMap.get = get\n"
   ]
  },
  {
   "cell_type": "code",
   "execution_count": 28,
   "metadata": {},
   "outputs": [],
   "source": [
    "def add(self, key, value):\n",
    "    key_hash = self._get_hash(key)\n",
    "    key_value = [key, value]\n",
    "    print(key_hash)\n",
    "    if self.map[key_hash] is None:\n",
    "        self.map[key_hash] = [key_value]\n",
    "        return True\n",
    "    else:\n",
    "        for pair in self.map[key_hash]:\n",
    "            if pair[0] == key:\n",
    "                pair[1] = value\n",
    "                return True\n",
    "        self.map[key_hash].append(key_value)\n",
    "        return True\n",
    "\n",
    "HashMap.add = add\n"
   ]
  },
  {
   "cell_type": "code",
   "execution_count": 29,
   "metadata": {},
   "outputs": [],
   "source": [
    "def __str__(self):\n",
    "    ret = \" \"\n",
    "    for i, item in enumerate(self.map):\n",
    "        if item is not None:\n",
    "            ret += str(i) + \": \" + str(item) + \"\\n\"\n",
    "    return ret\n",
    "HashMap.__str__ = __str__\n"
   ]
  },
  {
   "cell_type": "code",
   "execution_count": 30,
   "metadata": {},
   "outputs": [],
   "source": [
    "def delete(self, key):\n",
    "    key_hash = self._get_hash(key)\n",
    "    \n",
    "    if self.map[key_hash] is None:\n",
    "        return KeyError(str(key))\n",
    "    \n",
    "    for i in range(0, len(self.map[key_hash])):\n",
    "        if self.map[key_hash][i][0] == key:\n",
    "            self.map[key_hash].pop(i)\n",
    "            return True\n",
    "HashMap.delete = delete"
   ]
  },
  {
   "cell_type": "code",
   "execution_count": 31,
   "metadata": {},
   "outputs": [],
   "source": [
    "h = HashMap()"
   ]
  },
  {
   "cell_type": "code",
   "execution_count": 32,
   "metadata": {},
   "outputs": [
    {
     "name": "stdout",
     "output_type": "stream",
     "text": [
      "4\n",
      "came to int if\n",
      "4\n"
     ]
    },
    {
     "data": {
      "text/plain": [
       "True"
      ]
     },
     "execution_count": 32,
     "metadata": {},
     "output_type": "execute_result"
    }
   ],
   "source": [
    "h.add((4,6),\"ten\")"
   ]
  },
  {
   "cell_type": "code",
   "execution_count": 33,
   "metadata": {},
   "outputs": [
    {
     "name": "stdout",
     "output_type": "stream",
     "text": [
      " 4: [[(4, 6), 'ten']]\n",
      "\n"
     ]
    }
   ],
   "source": [
    "print(h)"
   ]
  },
  {
   "cell_type": "code",
   "execution_count": null,
   "metadata": {},
   "outputs": [],
   "source": []
  }
 ],
 "metadata": {
  "kernelspec": {
   "display_name": "Python 3",
   "language": "python",
   "name": "python3"
  },
  "language_info": {
   "codemirror_mode": {
    "name": "ipython",
    "version": 3
   },
   "file_extension": ".py",
   "mimetype": "text/x-python",
   "name": "python",
   "nbconvert_exporter": "python",
   "pygments_lexer": "ipython3",
   "version": "3.7.3"
  }
 },
 "nbformat": 4,
 "nbformat_minor": 2
}
