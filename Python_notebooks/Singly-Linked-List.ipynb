{
 "cells": [
  {
   "cell_type": "code",
   "execution_count": 2,
   "metadata": {},
   "outputs": [],
   "source": [
    "class Linkedlist:\n",
    "    def __init__(self):\n",
    "        self.head = None\n",
    "class Node:\n",
    "    def __init__(self,val):\n",
    "        self.val = val\n",
    "        self.next = None "
   ]
  },
  {
   "cell_type": "code",
   "execution_count": 28,
   "metadata": {},
   "outputs": [],
   "source": [
    "def push(self,val):\n",
    "    new_node = Node(val)\n",
    "    \n",
    "    #case:1\n",
    "    \n",
    "    if self.head is None:\n",
    "        head = new_node\n",
    "        return\n",
    "    \n",
    "    #case:2\n",
    "    \n",
    "    last = self.head\n",
    "    while last.next is not None:\n",
    "        last = last.next\n",
    "    last.next = new_node\n",
    "    return\n",
    "Linkedlist.push = push"
   ]
  },
  {
   "cell_type": "code",
   "execution_count": 29,
   "metadata": {},
   "outputs": [
    {
     "ename": "NameError",
     "evalue": "name 'Linked_List' is not defined",
     "output_type": "error",
     "traceback": [
      "\u001b[0;31m---------------------------------------------------------------------------\u001b[0m",
      "\u001b[0;31mNameError\u001b[0m                                 Traceback (most recent call last)",
      "\u001b[0;32m<ipython-input-29-e0d6d2909853>\u001b[0m in \u001b[0;36m<module>\u001b[0;34m\u001b[0m\n\u001b[1;32m     12\u001b[0m     \u001b[0mself\u001b[0m\u001b[0;34m.\u001b[0m\u001b[0mprev\u001b[0m\u001b[0;34m.\u001b[0m\u001b[0mnext\u001b[0m \u001b[0;34m=\u001b[0m \u001b[0mnew_node\u001b[0m\u001b[0;34m\u001b[0m\u001b[0;34m\u001b[0m\u001b[0m\n\u001b[1;32m     13\u001b[0m     \u001b[0mnew_node\u001b[0m\u001b[0;34m.\u001b[0m\u001b[0mnext\u001b[0m \u001b[0;34m=\u001b[0m \u001b[0mlast\u001b[0m\u001b[0;34m\u001b[0m\u001b[0;34m\u001b[0m\u001b[0m\n\u001b[0;32m---> 14\u001b[0;31m \u001b[0mLinked_List\u001b[0m\u001b[0;34m.\u001b[0m\u001b[0mpop\u001b[0m \u001b[0;34m=\u001b[0m \u001b[0mpop\u001b[0m\u001b[0;34m\u001b[0m\u001b[0;34m\u001b[0m\u001b[0m\n\u001b[0m\u001b[1;32m     15\u001b[0m \u001b[0ml\u001b[0m \u001b[0;34m=\u001b[0m \u001b[0mLinkedList\u001b[0m\u001b[0;34m(\u001b[0m\u001b[0;34m)\u001b[0m\u001b[0;34m\u001b[0m\u001b[0;34m\u001b[0m\u001b[0m\n\u001b[1;32m     16\u001b[0m \u001b[0ml\u001b[0m\u001b[0;34m.\u001b[0m\u001b[0mpush\u001b[0m\u001b[0;34m(\u001b[0m\u001b[0;36m5\u001b[0m\u001b[0;34m)\u001b[0m\u001b[0;34m\u001b[0m\u001b[0;34m\u001b[0m\u001b[0m\n",
      "\u001b[0;31mNameError\u001b[0m: name 'Linked_List' is not defined"
     ]
    }
   ],
   "source": [
    "def pop(self):\n",
    "    if self.head is None:\n",
    "        raise Exception(\"Can't Pop.Nothing to pop\")\n",
    "    if self.head.next is None:\n",
    "        val = self.head.val\n",
    "        self.head = None\n",
    "        return val\n",
    "    last = self.head\n",
    "    while last is not None:\n",
    "        self.prev = last\n",
    "        last = last.next\n",
    "    self.prev.next = new_node\n",
    "    new_node.next = last\n",
    "Linked_List.pop = pop\n",
    "l = LinkedList() \n",
    "l.push(5) \n",
    "l.push(6) \n",
    "l.remove(6)\n",
    "m = '[5]'\n",
    "assert str(l).strip() == m"
   ]
  },
  {
   "cell_type": "code",
   "execution_count": 5,
   "metadata": {},
   "outputs": [],
   "source": [
    "def insert(self,index,val):\n",
    "    new_node = Node(val)\n",
    "    \n",
    "    #case:1\n",
    "    if index == 0:\n",
    "        new_node.next = self.head\n",
    "        self.head = new_node\n",
    "        return\n",
    "    \n",
    "    #case:2\n",
    "    \n",
    "    temp = self.head\n",
    "    count = 0\n",
    "    while temp is not None and count < index:\n",
    "        prev = temp\n",
    "        temp = temp.next\n",
    "        count += 1\n",
    "    new_node.next = temp\n",
    "    if self.head is not None:\n",
    "        prev.next = new_node\n",
    "    else:\n",
    "        self.head = new_node\n",
    "Linkedlist.insert = insert"
   ]
  },
  {
   "cell_type": "code",
   "execution_count": 6,
   "metadata": {},
   "outputs": [],
   "source": [
    "def remove(self,val):\n",
    "    temp = self.head\n",
    "    if temp is not None:\n",
    "        if temp.val == val:\n",
    "            self.head = temp.next\n",
    "            return\n",
    "    while temp is not None:\n",
    "        if temp.val ==val:\n",
    "            break\n",
    "        prev = temp\n",
    "        temp = temp.next\n",
    "    if temp is None:\n",
    "        return\n",
    "    prev.next = temp.next\n",
    "Linkedlist.remove = remove"
   ]
  },
  {
   "cell_type": "code",
   "execution_count": 7,
   "metadata": {},
   "outputs": [],
   "source": [
    "def len(self):\n",
    "    count = 0\n",
    "    temp = self.head\n",
    "    print(temp)\n",
    "    while temp is not None:\n",
    "        print(temp.val)\n",
    "        temp = temp.next\n",
    "        count += 1\n",
    "    return count\n",
    "Linkedlist.len = len"
   ]
  },
  {
   "cell_type": "code",
   "execution_count": 8,
   "metadata": {},
   "outputs": [],
   "source": [
    "def get(self,index):\n",
    "    if index >= length():\n",
    "        raise IndexError(\"Index out of bound\")\n",
    "    count = 0\n",
    "    temp = self.head\n",
    "    while count < index:\n",
    "        temp = temp.next\n",
    "        count += 1\n",
    "    return temp.val\n",
    "Linkedlist.get = get"
   ]
  },
  {
   "cell_type": "code",
   "execution_count": 9,
   "metadata": {},
   "outputs": [],
   "source": [
    "l = Linkedlist()"
   ]
  },
  {
   "cell_type": "code",
   "execution_count": 10,
   "metadata": {},
   "outputs": [
    {
     "name": "stdout",
     "output_type": "stream",
     "text": [
      "None\n"
     ]
    },
    {
     "data": {
      "text/plain": [
       "0"
      ]
     },
     "execution_count": 10,
     "metadata": {},
     "output_type": "execute_result"
    }
   ],
   "source": [
    "l.len()"
   ]
  },
  {
   "cell_type": "code",
   "execution_count": 11,
   "metadata": {},
   "outputs": [],
   "source": [
    "l.push(5)"
   ]
  },
  {
   "cell_type": "code",
   "execution_count": 12,
   "metadata": {},
   "outputs": [],
   "source": [
    "l.push(9)"
   ]
  },
  {
   "cell_type": "code",
   "execution_count": 13,
   "metadata": {},
   "outputs": [
    {
     "name": "stdout",
     "output_type": "stream",
     "text": [
      "None\n"
     ]
    },
    {
     "data": {
      "text/plain": [
       "0"
      ]
     },
     "execution_count": 13,
     "metadata": {},
     "output_type": "execute_result"
    }
   ],
   "source": [
    "l.len()"
   ]
  },
  {
   "cell_type": "code",
   "execution_count": 14,
   "metadata": {},
   "outputs": [
    {
     "ename": "AttributeError",
     "evalue": "'Linkedlist' object has no attribute 'pop'",
     "output_type": "error",
     "traceback": [
      "\u001b[0;31m---------------------------------------------------------------------------\u001b[0m",
      "\u001b[0;31mAttributeError\u001b[0m                            Traceback (most recent call last)",
      "\u001b[0;32m<ipython-input-14-33a5ac1f2384>\u001b[0m in \u001b[0;36m<module>\u001b[0;34m\u001b[0m\n\u001b[0;32m----> 1\u001b[0;31m \u001b[0ml\u001b[0m\u001b[0;34m.\u001b[0m\u001b[0mpop\u001b[0m\u001b[0;34m(\u001b[0m\u001b[0;34m)\u001b[0m\u001b[0;34m\u001b[0m\u001b[0;34m\u001b[0m\u001b[0m\n\u001b[0m",
      "\u001b[0;31mAttributeError\u001b[0m: 'Linkedlist' object has no attribute 'pop'"
     ]
    }
   ],
   "source": [
    "l.pop()"
   ]
  },
  {
   "cell_type": "code",
   "execution_count": 25,
   "metadata": {},
   "outputs": [],
   "source": [
    "l = Linkedlist()"
   ]
  },
  {
   "cell_type": "code",
   "execution_count": 26,
   "metadata": {},
   "outputs": [],
   "source": [
    "l.push(7)"
   ]
  },
  {
   "cell_type": "code",
   "execution_count": 27,
   "metadata": {},
   "outputs": [
    {
     "name": "stdout",
     "output_type": "stream",
     "text": [
      "[]\n"
     ]
    }
   ],
   "source": [
    "print(l)"
   ]
  },
  {
   "cell_type": "code",
   "execution_count": 1,
   "metadata": {},
   "outputs": [
    {
     "ename": "NameError",
     "evalue": "name 'Linkedlist' is not defined",
     "output_type": "error",
     "traceback": [
      "\u001b[0;31m---------------------------------------------------------------------------\u001b[0m",
      "\u001b[0;31mNameError\u001b[0m                                 Traceback (most recent call last)",
      "\u001b[0;32m<ipython-input-1-8657f90a9ecb>\u001b[0m in \u001b[0;36m<module>\u001b[0;34m\u001b[0m\n\u001b[1;32m      9\u001b[0m         \u001b[0mprev\u001b[0m \u001b[0;34m=\u001b[0m \u001b[0mnxt\u001b[0m\u001b[0;34m\u001b[0m\u001b[0;34m\u001b[0m\u001b[0m\n\u001b[1;32m     10\u001b[0m         \u001b[0mnxt\u001b[0m \u001b[0;34m=\u001b[0m \u001b[0mtemp_nxt\u001b[0m\u001b[0;34m\u001b[0m\u001b[0;34m\u001b[0m\u001b[0m\n\u001b[0;32m---> 11\u001b[0;31m \u001b[0mLinkedlist\u001b[0m\u001b[0;34m.\u001b[0m\u001b[0mreverse\u001b[0m \u001b[0;34m=\u001b[0m \u001b[0mreverse\u001b[0m\u001b[0;34m\u001b[0m\u001b[0;34m\u001b[0m\u001b[0m\n\u001b[0m",
      "\u001b[0;31mNameError\u001b[0m: name 'Linkedlist' is not defined"
     ]
    }
   ],
   "source": [
    "def reverse(self):\n",
    "    prev = self.head\n",
    "    nxt = prev.next\n",
    "    prev.next = None\n",
    "    \n",
    "    while nxt is not None:\n",
    "        temp_nxt = nxt.next\n",
    "        nxt.next = prev\n",
    "        prev = nxt\n",
    "        nxt = temp_nxt\n",
    "Linkedlist.reverse = reverse"
   ]
  },
  {
   "cell_type": "code",
   "execution_count": 2,
   "metadata": {},
   "outputs": [],
   "source": [
    "\n",
    "class Node:\n",
    "    def __init__(self,val):\n",
    "        self.val = val\n",
    "        self.next = None\n",
    "class LinkedList:\n",
    "    def __init__(self):\n",
    "        self.head = None\n",
    "def __str__(self):\n",
    "    l = []\n",
    "    temp = self.head\n",
    "    while temp is not None:\n",
    "        l.append(temp.val)\n",
    "        temp = temp.next\n",
    "    return(str(l))\n",
    "LinkedList.__str__ = __str__\n",
    "def push(self,val):\n",
    "    new_node = Node(val)\n",
    "    \n",
    "    #case:1\n",
    "    \n",
    "    if self.head is None:\n",
    "        self.head = new_node\n",
    "        return\n",
    "    \n",
    "    #case:2\n",
    "    \n",
    "    last = self.head\n",
    "    while last.next is not None:\n",
    "        last = last.next\n",
    "    last.next = new_node\n",
    "    return\n",
    "LinkedList.push = push\n",
    "def pop(self):\n",
    "    if self.head is None:\n",
    "        raise Exception(\"Can't Pop.Nothing to pop\")\n",
    "    \n",
    "    if self.head.next is None:\n",
    "        val = self.head.val\n",
    "        self.head = None\n",
    "        return val\n",
    "    \n",
    "    last = self.head\n",
    "    while last.next is not None:\n",
    "        prev = last\n",
    "        last = last.next\n",
    "        \n",
    "    val = last.val\n",
    "    prev.next = None\n",
    "    return val\n",
    "LinkedList.pop = pop\n",
    "\n",
    "def insert(self,index,val):\n",
    "    new_node = Node(val)\n",
    "    \n",
    "    #case:1\n",
    "    if index == 0:\n",
    "        new_node.next = self.head\n",
    "        self.head = new_node\n",
    "        return\n",
    "    \n",
    "    #case:2\n",
    "    \n",
    "    temp = self.head\n",
    "    count = 0\n",
    "    while temp is not None and count < index:\n",
    "        prev = temp\n",
    "        temp = temp.next\n",
    "        count += 1\n",
    "    new_node.next = temp\n",
    "    if self.head is not None:\n",
    "        prev.next = new_node\n",
    "    else:\n",
    "        self.head = new_node\n",
    "LinkedList.insert = insert\n",
    "\n",
    "\n",
    "def remove(self, val):\n",
    "    temp = self.head\n",
    "    \n",
    "    if temp is not None:\n",
    "        if temp.val == val:\n",
    "            self.head = temp.next\n",
    "            temp = None\n",
    "            return\n",
    "    \n",
    "    while temp is not None:\n",
    "        if temp.val == val:\n",
    "            break\n",
    "        \n",
    "        prev = temp\n",
    "        temp = temp.next\n",
    "    if temp is not None:\n",
    "        prev.next = temp.next\n",
    "        return\n",
    "    else:\n",
    "        prev.next = temp\n",
    "        return\n",
    "LinkedList.remove = remove\n",
    "\n",
    "def len(self):\n",
    "    count = 0\n",
    "    temp = self.head\n",
    "    while temp is not None:\n",
    "        temp = temp.next\n",
    "        count += 1\n",
    "    return count\n",
    "LinkedList.len = len\n",
    "\n",
    "def get(self,index):\n",
    "    if index >= self.len():\n",
    "        raise IndexError(\"Index out of bound\")\n",
    "    count = 0\n",
    "    temp = self.head\n",
    "    while count < index:\n",
    "        temp = temp.next\n",
    "        count += 1\n",
    "    return temp.val\n",
    "LinkedList.get = get\n",
    "def remove_at(self,index):\n",
    "    if self.head is None:\n",
    "        raise Exception(\"Nothing to remove\")\n",
    "    if index >= self.len():\n",
    "        raise Exception(\"Not that much elements in the list\")\n",
    "    \n",
    "    if index == 0:\n",
    "        self.head = self.head.next\n",
    "        return\n",
    "    \n",
    "    prev = self.head\n",
    "    temp = prev.next\n",
    "    counter = 1\n",
    "    \n",
    "    while temp.next is not None and counter < index:\n",
    "        prev = temp\n",
    "        temp = temp.next\n",
    "    prev.next = temp.next\n",
    "LinkedList.remove_at = remove_at"
   ]
  },
  {
   "cell_type": "code",
   "execution_count": 19,
   "metadata": {},
   "outputs": [],
   "source": []
  },
  {
   "cell_type": "code",
   "execution_count": 20,
   "metadata": {},
   "outputs": [],
   "source": []
  },
  {
   "cell_type": "code",
   "execution_count": 21,
   "metadata": {},
   "outputs": [],
   "source": [
    "l = LinkedList()"
   ]
  },
  {
   "cell_type": "code",
   "execution_count": 22,
   "metadata": {},
   "outputs": [],
   "source": [
    "l.push(3)\n",
    "l.push(2)\n",
    "l.push(6)\n",
    "l.push(9)\n",
    "l.push(36)"
   ]
  },
  {
   "cell_type": "code",
   "execution_count": 23,
   "metadata": {},
   "outputs": [
    {
     "name": "stdout",
     "output_type": "stream",
     "text": [
      "[3, 2, 6, 9, 36]\n"
     ]
    }
   ],
   "source": [
    "print(l)"
   ]
  },
  {
   "cell_type": "code",
   "execution_count": 24,
   "metadata": {},
   "outputs": [],
   "source": [
    "l.remove_at(0)"
   ]
  },
  {
   "cell_type": "code",
   "execution_count": 35,
   "metadata": {},
   "outputs": [
    {
     "name": "stdout",
     "output_type": "stream",
     "text": [
      "[]\n"
     ]
    }
   ],
   "source": [
    "print(l)"
   ]
  },
  {
   "cell_type": "code",
   "execution_count": 34,
   "metadata": {},
   "outputs": [],
   "source": [
    "l.remove_at(0)"
   ]
  },
  {
   "cell_type": "code",
   "execution_count": 45,
   "metadata": {},
   "outputs": [],
   "source": [
    "def reverse_list(self):\n",
    "    if self.head is None or self.head.next is None:\n",
    "        return\n",
    "    prev = self.head\n",
    "    nxt = prev.next\n",
    "    prev.next = None\n",
    "    \n",
    "    while nxt is not None:\n",
    "        temp_nxt = nxt.next\n",
    "        nxt.next = prev\n",
    "        prev = nxt\n",
    "        nxt = temp_nxt\n",
    "    self.head = prev\n",
    "LinkedList.reverse_list = reverse_list"
   ]
  },
  {
   "cell_type": "code",
   "execution_count": 61,
   "metadata": {},
   "outputs": [],
   "source": [
    "l = LinkedList()"
   ]
  },
  {
   "cell_type": "code",
   "execution_count": 62,
   "metadata": {},
   "outputs": [],
   "source": [
    "l.push(1)"
   ]
  },
  {
   "cell_type": "code",
   "execution_count": 63,
   "metadata": {},
   "outputs": [],
   "source": [
    "l.push(3)"
   ]
  },
  {
   "cell_type": "code",
   "execution_count": 56,
   "metadata": {},
   "outputs": [],
   "source": []
  },
  {
   "cell_type": "code",
   "execution_count": 66,
   "metadata": {},
   "outputs": [
    {
     "name": "stdout",
     "output_type": "stream",
     "text": [
      "[3, 1]\n"
     ]
    }
   ],
   "source": [
    "print(l)"
   ]
  },
  {
   "cell_type": "code",
   "execution_count": 65,
   "metadata": {},
   "outputs": [],
   "source": [
    "l.reverse_list()"
   ]
  },
  {
   "cell_type": "code",
   "execution_count": null,
   "metadata": {},
   "outputs": [],
   "source": []
  },
  {
   "cell_type": "code",
   "execution_count": null,
   "metadata": {},
   "outputs": [],
   "source": []
  },
  {
   "cell_type": "code",
   "execution_count": null,
   "metadata": {},
   "outputs": [],
   "source": []
  }
 ],
 "metadata": {
  "kernelspec": {
   "display_name": "Python 3",
   "language": "python",
   "name": "python3"
  },
  "language_info": {
   "codemirror_mode": {
    "name": "ipython",
    "version": 3
   },
   "file_extension": ".py",
   "mimetype": "text/x-python",
   "name": "python",
   "nbconvert_exporter": "python",
   "pygments_lexer": "ipython3",
   "version": "3.7.3"
  }
 },
 "nbformat": 4,
 "nbformat_minor": 2
}
