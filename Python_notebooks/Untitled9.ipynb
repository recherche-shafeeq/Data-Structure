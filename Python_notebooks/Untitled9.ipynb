{
 "cells": [
  {
   "cell_type": "code",
   "execution_count": 4,
   "metadata": {},
   "outputs": [],
   "source": [
    "def bubble_sort(l):\n",
    "    n = len(l)\n",
    "    \n",
    "    for i in range(n):\n",
    "        for j in range(0,(n-i)-1):\n",
    "            if l[j] > l[j+1]:\n",
    "                l[j],l[j+1] = l[j+1], l[j]"
   ]
  },
  {
   "cell_type": "code",
   "execution_count": 6,
   "metadata": {},
   "outputs": [
    {
     "name": "stdout",
     "output_type": "stream",
     "text": [
      "[1, 1, 1, 2, 2, 4, 5, 5, 5, 6, 15, 110]\n"
     ]
    }
   ],
   "source": [
    "l = [1,2,4,5,1,2,5,5,6,1,110,15]\n",
    "bubble_sort(l)\n",
    "print(l)"
   ]
  },
  {
   "cell_type": "code",
   "execution_count": 9,
   "metadata": {},
   "outputs": [],
   "source": [
    "def insertion_sort(l):\n",
    "    \n",
    "    for i in range(1,len(l)):\n",
    "        key = l[i]\n",
    "        \n",
    "        j = i-1\n",
    "        while j >= 0 and key < l[j]:\n",
    "            l[j+1] = l[j]\n",
    "            j -= 1\n",
    "        l[j+1] = key"
   ]
  },
  {
   "cell_type": "code",
   "execution_count": 10,
   "metadata": {},
   "outputs": [
    {
     "name": "stdout",
     "output_type": "stream",
     "text": [
      "[1, 1, 1, 2, 2, 4, 5, 5, 5, 6, 15, 110]\n"
     ]
    }
   ],
   "source": [
    "l = [1,2,4,5,1,2,5,5,6,1,110,15]\n",
    "insertion_sort(l)\n",
    "print(l)"
   ]
  },
  {
   "cell_type": "code",
   "execution_count": 11,
   "metadata": {},
   "outputs": [],
   "source": [
    "def selection_sort(l):\n",
    "    n = len(l)\n",
    "    \n",
    "    for i in range(n):\n",
    "        min_idx = i\n",
    "        for j in range( i+1,n ):\n",
    "            if l[j] < l[min_idx]:\n",
    "                min_idx = j\n",
    "        l[i],l[min_idx] = l[min_idx], l[i]"
   ]
  },
  {
   "cell_type": "code",
   "execution_count": 11,
   "metadata": {},
   "outputs": [],
   "source": [
    "def bubble_sort(l):\n",
    "    n = len(l)\n",
    "    for i in range(n):\n",
    "        for j in range(0,(n-i)-1):\n",
    "            if l[j] < l[j+1]:\n",
    "                l[j],l[j+1] = l[j+1],l[j]"
   ]
  },
  {
   "cell_type": "code",
   "execution_count": 12,
   "metadata": {},
   "outputs": [
    {
     "name": "stdout",
     "output_type": "stream",
     "text": [
      "[1, 2, 4, 5, 1, 2, 5, 5, 6, 1, 110, 15]\n",
      "[110, 15, 6, 5, 5, 5, 4, 2, 2, 1, 1, 1]\n"
     ]
    }
   ],
   "source": [
    "l = [1,2,4,5,1,2,5,5,6,1,110,15]\n",
    "print(l)\n",
    "bubble_sort(l)\n",
    "print(l)"
   ]
  },
  {
   "cell_type": "code",
   "execution_count": 5,
   "metadata": {},
   "outputs": [],
   "source": [
    "def selection_sort(l):\n",
    "    n = len(l)\n",
    "    for i in range(n):\n",
    "        max_idx = i\n",
    "        for j in range(i+1,n):\n",
    "            if l[j] > l[max_idx]:\n",
    "                max_idx = j\n",
    "        l[i],l[max_idx] = l[max_idx],l[i]"
   ]
  },
  {
   "cell_type": "code",
   "execution_count": 6,
   "metadata": {},
   "outputs": [
    {
     "name": "stdout",
     "output_type": "stream",
     "text": [
      "[1, 2, 4, 5, 1, 2, 5, 5, 6, 1, 110, 15]\n",
      "[110, 15, 6, 5, 5, 5, 4, 2, 2, 1, 1, 1]\n"
     ]
    }
   ],
   "source": [
    "l = [1,2,4,5,1,2,5,5,6,1,110,15]\n",
    "print(l)\n",
    "selection_sort(l)\n",
    "print(l)"
   ]
  },
  {
   "cell_type": "code",
   "execution_count": 2,
   "metadata": {},
   "outputs": [],
   "source": [
    "import random\n",
    "def q_sort(l,fst,lst):\n",
    "    if fst >= lst: return\n",
    "    \n",
    "    i,j = fst,lst\n",
    "    pivot = l[random.randint(fst,lst)]\n",
    "    \n",
    "    while i <= j:\n",
    "        while l[i] > pivot: i += 1\n",
    "        while l[j] < pivot: j -= 1\n",
    "        if i <= j:\n",
    "            l[i],l[j] = l[j],l[i]\n",
    "            i,j = i+1,j-1\n",
    "    q_sort(l,fst,j)\n",
    "    q_sort(l,i,lst)"
   ]
  },
  {
   "cell_type": "code",
   "execution_count": 3,
   "metadata": {},
   "outputs": [
    {
     "name": "stdout",
     "output_type": "stream",
     "text": [
      "[1, 2, 4, 5, 1, 2, 5, 5, 6, 1, 110, 15]\n",
      "[110, 15, 6, 5, 5, 5, 4, 2, 2, 1, 1, 1]\n"
     ]
    }
   ],
   "source": [
    "l = [1,2,4,5,1,2,5,5,6,1,110,15]\n",
    "print(l)\n",
    "q_sort(l,0,len(l)-1)\n",
    "print(l)"
   ]
  },
  {
   "cell_type": "code",
   "execution_count": 17,
   "metadata": {},
   "outputs": [],
   "source": [
    "def selection_sort(l,compare_with):\n",
    "    for i in range(len(l)):\n",
    "        idx = i\n",
    "        for j in range(i+1,len(l)):\n",
    "            if compare_with(l[j],l[idx]):\n",
    "                idx = j\n",
    "        l[i],l[idx] = l[idx],l[i]\n",
    "    print(l)"
   ]
  },
  {
   "cell_type": "code",
   "execution_count": 14,
   "metadata": {},
   "outputs": [
    {
     "name": "stdout",
     "output_type": "stream",
     "text": [
      "[1, 2, 4, 5, 1, 2, 5, 5, 6, 1, 110, 15]\n",
      "[110, 15, 6, 5, 5, 5, 4, 2, 2, 1, 1, 1]\n"
     ]
    }
   ],
   "source": [
    "l = [1,2,4,5,1,2,5,5,6,1,110,15]\n",
    "print(l)\n",
    "selection_sort(l)\n",
    "print(l)"
   ]
  },
  {
   "cell_type": "code",
   "execution_count": 18,
   "metadata": {},
   "outputs": [],
   "source": [
    "def greater_than_tuple(a ,b):\n",
    "    return sum(a) > sum(b)"
   ]
  },
  {
   "cell_type": "code",
   "execution_count": 20,
   "metadata": {},
   "outputs": [
    {
     "name": "stdout",
     "output_type": "stream",
     "text": [
      "[(7, 9), (5, 6), (2, 4), (1, 2)]\n"
     ]
    }
   ],
   "source": [
    "selection_sort([(1,2),(2,4),(7,9),(5,6)],les_than_tuple)"
   ]
  },
  {
   "cell_type": "code",
   "execution_count": 21,
   "metadata": {},
   "outputs": [],
   "source": [
    "def greate_than_tuple(a, b):\n",
    "    return sume"
   ]
  },
  {
   "cell_type": "code",
   "execution_count": 33,
   "metadata": {},
   "outputs": [],
   "source": [
    "dic = [{\"name\":\"haris\",\"age\":7},{\"name\":\"hafeez\",\"age\":8},{\"name\":\"shafeeq\",\"age\":5}]"
   ]
  },
  {
   "cell_type": "code",
   "execution_count": 40,
   "metadata": {},
   "outputs": [],
   "source": [
    "def unwrap(dic):\n",
    "    return dic[\"name\"]"
   ]
  },
  {
   "cell_type": "code",
   "execution_count": 41,
   "metadata": {},
   "outputs": [],
   "source": [
    "dic.sort(key=unwrap,reverse= True)"
   ]
  },
  {
   "cell_type": "code",
   "execution_count": 42,
   "metadata": {},
   "outputs": [
    {
     "name": "stdout",
     "output_type": "stream",
     "text": [
      "[{'name': 'shafeeq', 'age': 5}, {'name': 'haris', 'age': 7}, {'name': 'hafeez', 'age': 8}]\n"
     ]
    }
   ],
   "source": [
    "print(dic)"
   ]
  },
  {
   "cell_type": "code",
   "execution_count": 43,
   "metadata": {},
   "outputs": [
    {
     "data": {
      "text/plain": [
       "[{'name': 'shafeeq', 'age': 5},\n",
       " {'name': 'haris', 'age': 7},\n",
       " {'name': 'hafeez', 'age': 8}]"
      ]
     },
     "execution_count": 43,
     "metadata": {},
     "output_type": "execute_result"
    }
   ],
   "source": [
    "dic"
   ]
  },
  {
   "cell_type": "code",
   "execution_count": 49,
   "metadata": {},
   "outputs": [
    {
     "ename": "SyntaxError",
     "evalue": "invalid syntax (<ipython-input-49-9006e2e8e506>, line 1)",
     "output_type": "error",
     "traceback": [
      "\u001b[0;36m  File \u001b[0;32m\"<ipython-input-49-9006e2e8e506>\"\u001b[0;36m, line \u001b[0;32m1\u001b[0m\n\u001b[0;31m    print(dic,end=lambda \" \": \" \")\u001b[0m\n\u001b[0m                           ^\u001b[0m\n\u001b[0;31mSyntaxError\u001b[0m\u001b[0;31m:\u001b[0m invalid syntax\n"
     ]
    }
   ],
   "source": [
    "print(dic,end=lambda "
   ]
  },
  {
   "cell_type": "code",
   "execution_count": 111,
   "metadata": {},
   "outputs": [],
   "source": [
    "def heapify(lst,n,root):\n",
    "    largest = root\n",
    "    l = 2*root+1\n",
    "    r = 2*root+2\n",
    "    if l < n and lst[l] > lst[largest]:\n",
    "        largest = l\n",
    "    if r < n and lst[r] > lst[largest]:\n",
    "        largest = r\n",
    "    \n",
    "    if largest != root:\n",
    "        lst[largest],lst[root] = lst[root] , lst[largest]\n",
    "        heapify(lst,n,largest)"
   ]
  },
  {
   "cell_type": "code",
   "execution_count": 112,
   "metadata": {},
   "outputs": [],
   "source": [
    "heap = [100,5,3,2,8,15,6,102]"
   ]
  },
  {
   "cell_type": "code",
   "execution_count": 113,
   "metadata": {},
   "outputs": [],
   "source": [
    "def build_heap(lst):\n",
    "    for i in reversed(range(len(lst)//2)):\n",
    "        heapify(lst,len(lst),i)"
   ]
  },
  {
   "cell_type": "code",
   "execution_count": 114,
   "metadata": {},
   "outputs": [
    {
     "name": "stdout",
     "output_type": "stream",
     "text": [
      "[102, 100, 15, 5, 8, 3, 6, 2]\n"
     ]
    }
   ],
   "source": [
    "build_heap(heap)\n",
    "print(heap)"
   ]
  },
  {
   "cell_type": "code",
   "execution_count": 115,
   "metadata": {},
   "outputs": [
    {
     "name": "stdout",
     "output_type": "stream",
     "text": [
      "[102, 100, 15, 5, 8, 3, 6, 2]\n"
     ]
    }
   ],
   "source": [
    "build_heap(heap)\n",
    "print(heap)"
   ]
  },
  {
   "cell_type": "code",
   "execution_count": 116,
   "metadata": {},
   "outputs": [],
   "source": [
    "def heap_sort(lst):\n",
    "    \n",
    "    n = len(lst)\n",
    "    build_heap(lst)\n",
    "    \n",
    "    for i in reversed(range(n)):\n",
    "        lst[i], lst[0] = lst[0],lst[i]\n",
    "        heapify(lst,i,0)\n"
   ]
  },
  {
   "cell_type": "code",
   "execution_count": 117,
   "metadata": {},
   "outputs": [],
   "source": [
    "heap_sort(heap)"
   ]
  },
  {
   "cell_type": "code",
   "execution_count": 118,
   "metadata": {},
   "outputs": [
    {
     "name": "stdout",
     "output_type": "stream",
     "text": [
      "[2, 3, 5, 6, 8, 15, 100, 102]\n"
     ]
    }
   ],
   "source": [
    "print(heap)"
   ]
  },
  {
   "cell_type": "code",
   "execution_count": 127,
   "metadata": {},
   "outputs": [],
   "source": [
    "def heap_sort(lst):\n",
    "    n  = len(lst)\n",
    "    \n",
    "    build_heap(lst)\n",
    "    for i in reversed(range(n)):\n",
    "        lst[i], lst[0] = lst[0], lst[i]\n",
    "        heapify(lst,i,0)"
   ]
  },
  {
   "cell_type": "code",
   "execution_count": 128,
   "metadata": {},
   "outputs": [],
   "source": [
    "heap = [100,5,3,2,8,15,6,102]"
   ]
  },
  {
   "cell_type": "code",
   "execution_count": 129,
   "metadata": {},
   "outputs": [],
   "source": [
    "heap_sort(heap)"
   ]
  },
  {
   "cell_type": "code",
   "execution_count": 130,
   "metadata": {},
   "outputs": [
    {
     "name": "stdout",
     "output_type": "stream",
     "text": [
      "[2, 3, 5, 6, 8, 15, 100, 102]\n"
     ]
    }
   ],
   "source": [
    "print(heap)"
   ]
  },
  {
   "cell_type": "code",
   "execution_count": 132,
   "metadata": {},
   "outputs": [],
   "source": [
    "def delete(self,key):\n",
    "    key_hash = self._get_hash\n",
    "    \n",
    "    if self.map[key_hash] is None:\n",
    "        raise KeyError(str(key))\n",
    "        \n",
    "    for i,j in enumerate(self.map[key_hash]):\n",
    "        if j[0] == key:\n",
    "            self.map[key_hash].pop(i)\n",
    "            return True"
   ]
  },
  {
   "cell_type": "code",
   "execution_count": 134,
   "metadata": {},
   "outputs": [],
   "source": [
    "l = [[1,2],[3,4]]\n",
    "for i, j in enumerate(l):\n",
    "    if j[0] == 3:\n",
    "        l.pop(i)"
   ]
  },
  {
   "cell_type": "code",
   "execution_count": 135,
   "metadata": {},
   "outputs": [
    {
     "name": "stdout",
     "output_type": "stream",
     "text": [
      "[[1, 2]]\n"
     ]
    }
   ],
   "source": [
    "print(l)"
   ]
  },
  {
   "cell_type": "code",
   "execution_count": null,
   "metadata": {},
   "outputs": [],
   "source": []
  },
  {
   "cell_type": "code",
   "execution_count": null,
   "metadata": {},
   "outputs": [],
   "source": []
  },
  {
   "cell_type": "code",
   "execution_count": null,
   "metadata": {},
   "outputs": [],
   "source": []
  }
 ],
 "metadata": {
  "kernelspec": {
   "display_name": "Python 3",
   "language": "python",
   "name": "python3"
  },
  "language_info": {
   "codemirror_mode": {
    "name": "ipython",
    "version": 3
   },
   "file_extension": ".py",
   "mimetype": "text/x-python",
   "name": "python",
   "nbconvert_exporter": "python",
   "pygments_lexer": "ipython3",
   "version": "3.7.3"
  }
 },
 "nbformat": 4,
 "nbformat_minor": 2
}
