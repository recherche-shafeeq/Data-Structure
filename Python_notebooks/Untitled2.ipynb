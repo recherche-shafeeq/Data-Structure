{
 "cells": [
  {
   "cell_type": "code",
   "execution_count": 52,
   "metadata": {},
   "outputs": [],
   "source": [
    "class Node:\n",
    "    def __init__(self,val):\n",
    "        self.val = val\n",
    "        self.next = None\n",
    "class LinkedList:\n",
    "    def __init__(self):\n",
    "        self.head = None\n",
    "def __str__(self):\n",
    "    l = []\n",
    "    temp = self.head\n",
    "    while temp is not None:\n",
    "        l.append(temp.val)\n",
    "        print(l)\n",
    "        temp = temp.next\n",
    "    return(str(l))\n",
    "LinkedList.__str__ = __str__\n",
    "def push(self,val):\n",
    "    new_node = Node(val)\n",
    "    \n",
    "    #case:1\n",
    "    \n",
    "    if self.head is None:\n",
    "        self.head = new_node\n",
    "        return\n",
    "    \n",
    "    #case:2\n",
    "    \n",
    "    last = self.head\n",
    "    while last.next is not None:\n",
    "        last = last.next\n",
    "    last.next = new_node\n",
    "    return\n",
    "LinkedList.push = push\n",
    "def pop(self):\n",
    "    if self.head is None:\n",
    "        raise Exception(\"Can't Pop.Nothing to pop\")\n",
    "    \n",
    "    if self.head.next is None:\n",
    "        val = self.head.val\n",
    "        self.head = None\n",
    "        return val\n",
    "    \n",
    "    last = self.head\n",
    "    while last.next is not None:\n",
    "        prev = last\n",
    "        last = last.next\n",
    "        \n",
    "    val = last.val\n",
    "    prev.next = None\n",
    "    return val\n",
    "LinkedList.pop = pop\n",
    "\n",
    "def insert(self,index,val):\n",
    "    new_node = Node(val)\n",
    "    \n",
    "    #case:1\n",
    "    if index == 0:\n",
    "        new_node.next = self.head\n",
    "        self.head = new_node\n",
    "        return\n",
    "    \n",
    "    #case:2\n",
    "    \n",
    "    temp = self.head\n",
    "    count = 0\n",
    "    while temp is not None and count < index:\n",
    "        prev = temp\n",
    "        temp = temp.next\n",
    "        count += 1\n",
    "    new_node.next = temp\n",
    "    if self.head is not None:\n",
    "        prev.next = new_node\n",
    "    else:\n",
    "        self.head = new_node\n",
    "LinkedList.insert = insert\n",
    "\n",
    "\n",
    "def remove(self, val):\n",
    "    temp = self.head\n",
    "    \n",
    "    if temp is not None:\n",
    "        if temp.val == val:\n",
    "            self.head = temp.next\n",
    "            temp = None\n",
    "            return\n",
    "    \n",
    "    while temp is not None:\n",
    "        if temp.val == val:\n",
    "            break\n",
    "        \n",
    "        prev = temp\n",
    "        temp = temp.next\n",
    "    if temp is not None:\n",
    "        prev.next = temp.next\n",
    "        return\n",
    "    else:\n",
    "        prev.next = temp\n",
    "        return\n",
    "LinkedList.remove = remove\n",
    "\n",
    "def len(self):\n",
    "    count = 0\n",
    "    temp = self.head\n",
    "    while temp is not None:\n",
    "        temp = temp.next\n",
    "        count += 1\n",
    "    return count\n",
    "LinkedList.len = len\n",
    "\n",
    "def get(self,index):\n",
    "    if index >= self.len():\n",
    "        raise IndexError(\"Index out of bound\")\n",
    "    count = 0\n",
    "    temp = self.head\n",
    "    while count < index:\n",
    "        temp = temp.next\n",
    "        count += 1\n",
    "    return temp.val\n",
    "LinkedList.get = get\n",
    "def reverse(self):\n",
    "    if self.head is None or self.head.next is None:\n",
    "        return\n",
    "    prev = self.head\n",
    "    nxt = prev.next\n",
    "    prev.next = None\n",
    "    \n",
    "    while nxt is not None:\n",
    "        print(nxt.val)\n",
    "        temp_nxt = nxt.next\n",
    "        nxt.next = prev\n",
    "        prev = nxt\n",
    "        nxt = temp_nxt\n",
    "    self.head = prev\n",
    "LinkedList.reverse = reverse"
   ]
  },
  {
   "cell_type": "code",
   "execution_count": 60,
   "metadata": {},
   "outputs": [],
   "source": [
    "l = LinkedList()"
   ]
  },
  {
   "cell_type": "code",
   "execution_count": 61,
   "metadata": {},
   "outputs": [],
   "source": [
    "l.push(7)\n",
    "\n"
   ]
  },
  {
   "cell_type": "code",
   "execution_count": 54,
   "metadata": {},
   "outputs": [
    {
     "name": "stdout",
     "output_type": "stream",
     "text": [
      "[9]\n",
      "[9, 7]\n",
      "[9, 7, 7]\n",
      "[9, 7, 7, 9]\n",
      "[9, 7, 7, 9, 4]\n",
      "[9, 7, 7, 9, 4]\n"
     ]
    }
   ],
   "source": [
    "print(l)"
   ]
  },
  {
   "cell_type": "code",
   "execution_count": 64,
   "metadata": {},
   "outputs": [],
   "source": [
    "l.reverse()"
   ]
  },
  {
   "cell_type": "code",
   "execution_count": 65,
   "metadata": {},
   "outputs": [
    {
     "name": "stdout",
     "output_type": "stream",
     "text": [
      "[7]\n",
      "[7]\n"
     ]
    }
   ],
   "source": [
    "print(l)"
   ]
  },
  {
   "cell_type": "code",
   "execution_count": null,
   "metadata": {},
   "outputs": [],
   "source": []
  }
 ],
 "metadata": {
  "kernelspec": {
   "display_name": "Python 3",
   "language": "python",
   "name": "python3"
  },
  "language_info": {
   "codemirror_mode": {
    "name": "ipython",
    "version": 3
   },
   "file_extension": ".py",
   "mimetype": "text/x-python",
   "name": "python",
   "nbconvert_exporter": "python",
   "pygments_lexer": "ipython3",
   "version": "3.7.3"
  }
 },
 "nbformat": 4,
 "nbformat_minor": 2
}
