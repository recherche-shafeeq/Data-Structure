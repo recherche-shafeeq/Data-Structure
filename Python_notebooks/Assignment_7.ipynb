{
 "cells": [
  {
   "cell_type": "code",
   "execution_count": 2,
   "metadata": {},
   "outputs": [],
   "source": [
    "class Person:\n",
    "    def __init__(self,name,age,queue_position):\n",
    "        self.name = name\n",
    "        self.age = age\n",
    "        self.queue_position = queue_position\n",
    "        self.priority = 100 - queue_position\n",
    "        if self.age >= 40:\n",
    "            self.priority += 100\n",
    "            \n",
    "    def get_priority(self):\n",
    "        return self.priority\n",
    "    def __str__(self):\n",
    "        return self.name+\" \"+str(self.priority)\n",
    "def build_heap(lst):\n",
    "    n = len(lst)\n",
    "    for i in reversed(range(n//2)):\n",
    "        heapify(lst,n,i)\n",
    "\n",
    "def heapify(lst,n,root):\n",
    "    \n",
    "    smallest = root\n",
    "    left = 2*root + 1\n",
    "    right = 2*root + 2\n",
    "    \n",
    "    if left < n and lst[left].priority < lst[smallest].priority:\n",
    "        smallest = left\n",
    "    \n",
    "    if right < n and lst[right].priority < lst[smallest].priority:\n",
    "        smallest = right\n",
    "    \n",
    "    if root != smallest:\n",
    "        lst[root],lst[smallest] = lst[smallest],lst[root]\n",
    "        heapify(lst,n,smallest)\n",
    "\n",
    "def heap_sort(lst):\n",
    "    \n",
    "    n = len(lst)\n",
    "    \n",
    "    build_heap(lst)\n",
    "    for i in reversed(range(n)):\n",
    "        lst[i],lst[0] = lst[0],lst[i]\n",
    "        heapify(lst,i,0)"
   ]
  },
  {
   "cell_type": "code",
   "execution_count": 3,
   "metadata": {},
   "outputs": [],
   "source": [
    "def build_heap(lst):\n",
    "    n = len(lst)\n",
    "    for i in reversed(range(n//2)):\n",
    "        heapify(lst,n,i)\n",
    "\n",
    "def heapify(lst,n,root):\n",
    "    \n",
    "    smallest = root\n",
    "    left = 2*root + 1\n",
    "    right = 2*root + 2\n",
    "    \n",
    "    if left < n and lst[left].priority < lst[smallest].priority:\n",
    "        smallest = left\n",
    "    \n",
    "    if right < n and lst[right].priority < lst[smallest].priority:\n",
    "        smallest = right\n",
    "    \n",
    "    if root != smallest:\n",
    "        lst[root],lst[smallest] = lst[smallest],lst[root]\n",
    "        heapify(lst,n,smallest)\n",
    "\n",
    "def heap_sort(lst):\n",
    "    \n",
    "    n = len(lst)\n",
    "    \n",
    "    build_heap(lst)\n",
    "    for i in reversed(range(n)):\n",
    "        lst[i],lst[0] = lst[0],lst[i]\n",
    "        heapify(lst,i,0)"
   ]
  },
  {
   "cell_type": "code",
   "execution_count": 4,
   "metadata": {},
   "outputs": [],
   "source": [
    "p1 = Person(\"shafeeq\",39,24)\n",
    "p2 = Person(\"ali\",40,31)"
   ]
  },
  {
   "cell_type": "code",
   "execution_count": 5,
   "metadata": {},
   "outputs": [],
   "source": [
    "People = [\n",
    "    Person(\"A\",24,1),\n",
    "    Person(\"B\",32,2),\n",
    "    Person(\"C\",45,3),\n",
    "    Person(\"D\",22,4),\n",
    "    Person(\"E\",21,5),\n",
    "    Person(\"F\", 32, 6),\n",
    "    Person(\"G\", 39, 7),\n",
    "    Person(\"H\", 44, 8),\n",
    "    Person(\"I\", 22, 9),\n",
    "    Person(\"J\", 29, 10),\n",
    "    Person(\"K\", 32, 11),\n",
    "    Person(\"L\", 31, 12)\n",
    "]"
   ]
  },
  {
   "cell_type": "code",
   "execution_count": 6,
   "metadata": {},
   "outputs": [],
   "source": [
    "heap_sort(People)"
   ]
  },
  {
   "cell_type": "code",
   "execution_count": 7,
   "metadata": {},
   "outputs": [
    {
     "name": "stdout",
     "output_type": "stream",
     "text": [
      "C 197\n",
      "H 192\n",
      "A 99\n",
      "B 98\n",
      "D 96\n",
      "E 95\n",
      "F 94\n",
      "G 93\n",
      "I 91\n",
      "J 90\n",
      "K 89\n",
      "L 88\n"
     ]
    }
   ],
   "source": [
    "for i in People:\n",
    "    print(i)"
   ]
  },
  {
   "cell_type": "code",
   "execution_count": 16,
   "metadata": {},
   "outputs": [],
   "source": [
    "p = Person(\"A\", 49, 10)\n",
    "assert str(p) == \"A 190\""
   ]
  },
  {
   "cell_type": "code",
   "execution_count": 17,
   "metadata": {},
   "outputs": [
    {
     "data": {
      "text/plain": [
       "'A 190'"
      ]
     },
     "execution_count": 17,
     "metadata": {},
     "output_type": "execute_result"
    }
   ],
   "source": [
    "str(p)"
   ]
  },
  {
   "cell_type": "code",
   "execution_count": 49,
   "metadata": {},
   "outputs": [],
   "source": [
    "class Person:\n",
    "    def __init__(self,name,age,queue_position):\n",
    "        self.name = name\n",
    "        self.age = age\n",
    "        self.queue_position = queue_position\n",
    "        self.priority = 100 - queue_position\n",
    "        if self.age >= 40:\n",
    "            self.priority += 100\n",
    "\n",
    "    def get_priority(self):\n",
    "        return self.priority\n",
    "    def __str__(self):\n",
    "        return self.name+\" \"+str(self.priority)\n",
    "def build_heap(lst):\n",
    "    n = len(lst)\n",
    "    for i in reversed(range(n//2)):\n",
    "        heapify(lst,n,i)\n",
    "\n",
    "def heapify(lst,n,root):\n",
    "    \n",
    "    smallest = root\n",
    "    left = 2*root + 1\n",
    "    right = 2*root + 2\n",
    "    \n",
    "    if left < n and lst[left].priority < lst[smallest].priority:\n",
    "        smallest = left\n",
    "    \n",
    "    if right < n and lst[right].priority < lst[smallest].priority:\n",
    "        smallest = right\n",
    "    \n",
    "    if root != smallest:\n",
    "        lst[root],lst[smallest] = lst[smallest],lst[root]\n",
    "        heapify(lst,n,smallest)\n",
    "\n",
    "def heap_sort(lst):\n",
    "    \n",
    "    n = len(lst)\n",
    "    \n",
    "    build_heap(lst)\n",
    "    for i in reversed(range(n)):\n",
    "        lst[i],lst[0] = lst[0],lst[i]\n",
    "        heapify(lst,i,0)"
   ]
  },
  {
   "cell_type": "code",
   "execution_count": 25,
   "metadata": {},
   "outputs": [],
   "source": [
    "p = Person(\"A\", 49, 10)\n",
    "assert str(p) == \"A 190\""
   ]
  },
  {
   "cell_type": "code",
   "execution_count": 59,
   "metadata": {},
   "outputs": [
    {
     "name": "stdout",
     "output_type": "stream",
     "text": [
      "C 97 H 192\n"
     ]
    },
    {
     "ename": "AssertionError",
     "evalue": "",
     "output_type": "error",
     "traceback": [
      "\u001b[0;31m---------------------------------------------------------------------------\u001b[0m",
      "\u001b[0;31mAssertionError\u001b[0m                            Traceback (most recent call last)",
      "\u001b[0;32m<ipython-input-59-65a4a0fc3e3a>\u001b[0m in \u001b[0;36m<module>\u001b[0;34m\u001b[0m\n\u001b[1;32m     21\u001b[0m \u001b[0;32mfor\u001b[0m \u001b[0mi\u001b[0m\u001b[0;34m,\u001b[0m \u001b[0mj\u001b[0m \u001b[0;32min\u001b[0m \u001b[0mzip\u001b[0m\u001b[0;34m(\u001b[0m\u001b[0ml\u001b[0m\u001b[0;34m,\u001b[0m \u001b[0mpeople\u001b[0m\u001b[0;34m)\u001b[0m\u001b[0;34m:\u001b[0m\u001b[0;34m\u001b[0m\u001b[0;34m\u001b[0m\u001b[0m\n\u001b[1;32m     22\u001b[0m     \u001b[0mprint\u001b[0m\u001b[0;34m(\u001b[0m\u001b[0mi\u001b[0m\u001b[0;34m,\u001b[0m\u001b[0mstr\u001b[0m\u001b[0;34m(\u001b[0m\u001b[0mj\u001b[0m\u001b[0;34m)\u001b[0m\u001b[0;34m)\u001b[0m\u001b[0;34m\u001b[0m\u001b[0;34m\u001b[0m\u001b[0m\n\u001b[0;32m---> 23\u001b[0;31m     \u001b[0;32massert\u001b[0m \u001b[0mi\u001b[0m \u001b[0;34m==\u001b[0m \u001b[0mstr\u001b[0m\u001b[0;34m(\u001b[0m\u001b[0mj\u001b[0m\u001b[0;34m)\u001b[0m\u001b[0;34m\u001b[0m\u001b[0;34m\u001b[0m\u001b[0m\n\u001b[0m",
      "\u001b[0;31mAssertionError\u001b[0m: "
     ]
    }
   ],
   "source": [
    "people = [\n",
    "            Person('A', 24, 1),\n",
    "            Person('B', 32, 2),\n",
    "            Person('C', 5, 3),\n",
    "            Person('D', 22, 4),\n",
    "            Person('E', 21, 5),\n",
    "            Person('F', 32, 6),\n",
    "            Person('G', 39, 7),\n",
    "            Person('H', 44, 8),\n",
    "            Person('I', 22, 9),\n",
    "            Person('J', 29, 10),\n",
    "            Person('K', 32, 11),\n",
    "            Person('L', 31, 12)\n",
    "        ]\n",
    "    \n",
    "heap_sort(people)\n",
    "l = ['C 97', 'H 192', 'A 99', 'B 98', 'D 96', 'E 95', 'F 94',\n",
    "                'G 93', 'I 91', 'J 90', 'K 89', 'L 88']\n",
    "    \n",
    "assert len(l) == len(people)\n",
    "for i, j in zip(l, people):\n",
    "    print(i,str(j))\n",
    "    assert i == str(j)"
   ]
  },
  {
   "cell_type": "code",
   "execution_count": 56,
   "metadata": {},
   "outputs": [],
   "source": [
    "mapping = zip(l,people)"
   ]
  },
  {
   "cell_type": "code",
   "execution_count": 57,
   "metadata": {},
   "outputs": [
    {
     "name": "stdout",
     "output_type": "stream",
     "text": [
      "<zip object at 0x111af8588>\n"
     ]
    }
   ],
   "source": [
    "print(mapping)"
   ]
  },
  {
   "cell_type": "code",
   "execution_count": 58,
   "metadata": {},
   "outputs": [
    {
     "name": "stdout",
     "output_type": "stream",
     "text": [
      "C 197 H 192\n",
      "H 192 A 99\n",
      "A 99 B 98\n",
      "B 98 C 97\n",
      "D 96 D 96\n",
      "E 95 E 95\n",
      "F 94 F 94\n",
      "G 93 G 93\n",
      "I 91 I 91\n",
      "J 90 J 90\n",
      "K 89 K 89\n",
      "L 88 L 88\n"
     ]
    }
   ],
   "source": [
    "for i,j in mapping:\n",
    "    print(i,str(j))"
   ]
  },
  {
   "cell_type": "code",
   "execution_count": 48,
   "metadata": {},
   "outputs": [
    {
     "name": "stdout",
     "output_type": "stream",
     "text": [
      "H 192\n"
     ]
    }
   ],
   "source": [
    "print(people[0])"
   ]
  },
  {
   "cell_type": "code",
   "execution_count": null,
   "metadata": {},
   "outputs": [],
   "source": []
  }
 ],
 "metadata": {
  "kernelspec": {
   "display_name": "Python 3",
   "language": "python",
   "name": "python3"
  },
  "language_info": {
   "codemirror_mode": {
    "name": "ipython",
    "version": 3
   },
   "file_extension": ".py",
   "mimetype": "text/x-python",
   "name": "python",
   "nbconvert_exporter": "python",
   "pygments_lexer": "ipython3",
   "version": "3.7.3"
  }
 },
 "nbformat": 4,
 "nbformat_minor": 2
}
