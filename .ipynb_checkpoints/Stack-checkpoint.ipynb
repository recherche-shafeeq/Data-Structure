{
 "cells": [
  {
   "cell_type": "code",
   "execution_count": 1,
   "metadata": {},
   "outputs": [],
   "source": [
    "def is_matched(string):\n",
    "    opening = '([{'\n",
    "    closing = ')]}'\n",
    "    mapping = dict(zip(opening,closing))\n",
    "    \n",
    "    stack = []\n",
    "    \n",
    "    for c in string:\n",
    "        \n",
    "        if c not in mapping.keys() and c not in mapping.values():\n",
    "            continue\n",
    "        \n",
    "        if c in mapping.keys():\n",
    "            stack.append(mapping[c])\n",
    "            \n",
    "        elif len(stack) == 0 or c != stack.pop():\n",
    "            return False\n",
    "    return len(stack) == 0"
   ]
  },
  {
   "cell_type": "code",
   "execution_count": 5,
   "metadata": {},
   "outputs": [],
   "source": [
    "class Stack:\n",
    "    def __init__(self):\n",
    "        self.l = []\n",
    "    def push(self,val):\n",
    "        self.l.append(val)\n",
    "    def pop(self):\n",
    "        return self.l.pop()\n",
    "    def length(self):\n",
    "        return len(l)\n",
    "    def peek(self):\n",
    "        return self.l[-1]\n",
    "def is_matched(string):\n",
    "    opening = '([{'\n",
    "    closing = ')]}'\n",
    "    \n",
    "    \n",
    "    mapping = dict(zip(opening,closing))\n",
    "    s = []\n",
    "    \n",
    "    for c in string:\n",
    "        \n",
    "        if c not in mapping.keys() and c not in mapping.values():\n",
    "            continue\n",
    "        \n",
    "        if c in mapping.keys():\n",
    "            s.append(mapping[c])\n",
    "        \n",
    "        elif len(s) == 0 or c != s.pop():\n",
    "            return False\n",
    "    \n",
    "    return  len(s)== 0"
   ]
  },
  {
   "cell_type": "code",
   "execution_count": 7,
   "metadata": {},
   "outputs": [
    {
     "data": {
      "text/plain": [
       "False"
      ]
     },
     "execution_count": 7,
     "metadata": {},
     "output_type": "execute_result"
    }
   ],
   "source": [
    "is_matched(\"[{}(()]\")"
   ]
  },
  {
   "cell_type": "code",
   "execution_count": null,
   "metadata": {},
   "outputs": [],
   "source": []
  },
  {
   "cell_type": "code",
   "execution_count": null,
   "metadata": {},
   "outputs": [],
   "source": []
  },
  {
   "cell_type": "code",
   "execution_count": null,
   "metadata": {},
   "outputs": [],
   "source": []
  },
  {
   "cell_type": "code",
   "execution_count": null,
   "metadata": {},
   "outputs": [],
   "source": []
  },
  {
   "cell_type": "code",
   "execution_count": 44,
   "metadata": {},
   "outputs": [],
   "source": []
  },
  {
   "cell_type": "code",
   "execution_count": null,
   "metadata": {},
   "outputs": [],
   "source": []
  },
  {
   "cell_type": "code",
   "execution_count": null,
   "metadata": {},
   "outputs": [],
   "source": []
  },
  {
   "cell_type": "code",
   "execution_count": null,
   "metadata": {},
   "outputs": [],
   "source": []
  },
  {
   "cell_type": "code",
   "execution_count": null,
   "metadata": {},
   "outputs": [],
   "source": []
  },
  {
   "cell_type": "code",
   "execution_count": 57,
   "metadata": {},
   "outputs": [],
   "source": []
  },
  {
   "cell_type": "code",
   "execution_count": 66,
   "metadata": {},
   "outputs": [
    {
     "data": {
      "text/plain": [
       "True"
      ]
     },
     "execution_count": 66,
     "metadata": {},
     "output_type": "execute_result"
    }
   ],
   "source": []
  },
  {
   "cell_type": "code",
   "execution_count": 67,
   "metadata": {},
   "outputs": [],
   "source": []
  },
  {
   "cell_type": "code",
   "execution_count": null,
   "metadata": {},
   "outputs": [],
   "source": []
  }
 ],
 "metadata": {
  "kernelspec": {
   "display_name": "Python 3",
   "language": "python",
   "name": "python3"
  },
  "language_info": {
   "codemirror_mode": {
    "name": "ipython",
    "version": 3
   },
   "file_extension": ".py",
   "mimetype": "text/x-python",
   "name": "python",
   "nbconvert_exporter": "python",
   "pygments_lexer": "ipython3",
   "version": "3.7.3"
  }
 },
 "nbformat": 4,
 "nbformat_minor": 2
}
