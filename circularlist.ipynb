{
 "cells": [
  {
   "cell_type": "code",
   "execution_count": 166,
   "metadata": {},
   "outputs": [],
   "source": [
    "class Node:\n",
    "    def __init__(self,val = None):\n",
    "        self.val = val\n",
    "        self.next = None"
   ]
  },
  {
   "cell_type": "code",
   "execution_count": 167,
   "metadata": {},
   "outputs": [],
   "source": [
    "class Circular:\n",
    "    def __init__(self):\n",
    "        self.head = None\n",
    "        \n",
    "    def __str__(self):\n",
    "        fin = \"[\"\n",
    "        temp = self.head\n",
    "        while temp is not None:\n",
    "            fin = fin + str(temp.val) + \", \"\n",
    "            temp = temp.next\n",
    "            if temp == self.head:\n",
    "                break\n",
    "                \n",
    "        fin = fin.rstrip(\", \")\n",
    "        fin = fin + \"]\"\n",
    "        return fin"
   ]
  },
  {
   "cell_type": "code",
   "execution_count": 168,
   "metadata": {},
   "outputs": [],
   "source": [
    "def get_last(self):\n",
    "    if self.head is None:\n",
    "        return None\n",
    "    temp = self.head.next\n",
    "    while temp.next != self.head:\n",
    "        temp = temp.next\n",
    "    return temp\n",
    "\n",
    "Circular.get_last = get_last"
   ]
  },
  {
   "cell_type": "code",
   "execution_count": 169,
   "metadata": {},
   "outputs": [],
   "source": [
    "def insert(self,index,val):\n",
    "    new_node = Node(val)\n",
    "    last = self.get_last()\n",
    "    \n",
    "    if index == 0:\n",
    "        new_node.next = self.head\n",
    "        self.head = new_node\n",
    "        \n",
    "        if last is None:\n",
    "            self.head.next = self.head\n",
    "        else:\n",
    "            last.next = new_node   \n",
    "        return\n",
    "    \n",
    "    if self.head is None:\n",
    "        raise IndexError(\"Cannot insert at \" + str(index) + \" because list is empty.\")\n",
    "    \n",
    "    temp = self.head\n",
    "    \n",
    "    counter = 0\n",
    "    while temp is not None and counter < index:\n",
    "        prev = temp\n",
    "        temp = temp.next\n",
    "        counter = counter + 1\n",
    "    prev.next = new_node\n",
    "    new_node.next = temp\n",
    "    \n",
    "Circular.insert = insert  "
   ]
  },
  {
   "cell_type": "code",
   "execution_count": 170,
   "metadata": {},
   "outputs": [],
   "source": [
    "def remove(self,val):\n",
    "    if self.head is None:\n",
    "        return\n",
    "    temp = self.head\n",
    "    last = self.get_last()\n",
    "    \n",
    "    if temp.val == val:\n",
    "        if last == self.head:\n",
    "            self.head = None\n",
    "        else:\n",
    "            self.head = temp.next\n",
    "            last.next = self.head\n",
    "        return\n",
    "    \n",
    "    prev = temp\n",
    "    temp = temp.next\n",
    "    while temp != self.head:\n",
    "        if temp.val == val:\n",
    "            break\n",
    "        prev = temp\n",
    "        temp = temp.next\n",
    "    if temp == self.head:\n",
    "        return\n",
    "    prev.next = temp.next\n",
    "    \n",
    "Circular.remove = remove"
   ]
  },
  {
   "cell_type": "code",
   "execution_count": 171,
   "metadata": {},
   "outputs": [],
   "source": [
    "def pop(self):\n",
    "    \n",
    "    last = self.get_last()\n",
    "    self.remove(last.val)\n",
    "    return(last.val)\n",
    "    \n",
    "Circular.pop = pop"
   ]
  },
  {
   "cell_type": "code",
   "execution_count": 220,
   "metadata": {},
   "outputs": [
    {
     "name": "stdout",
     "output_type": "stream",
     "text": [
      "[1, 6, 3, 5, 2, 4]\n",
      "4\n",
      "[1, 6, 3, 5, 2, 4]\n"
     ]
    }
   ],
   "source": [
    "l = Circular() \n",
    "l.insert(0,1)\n",
    "l.insert(1,2)\n",
    "l.insert(5,3)\n",
    "l.insert(3,4)\n",
    "l.insert(2,5)\n",
    "l.insert(1,6)\n",
    "print(l)\n",
    "#l.remove(2)\n",
    "#print(l)\n",
    "last = l.get_last()\n",
    "print(last.val)\n",
    "#l.pop()\n",
    "print(l)\n",
    "#last = l.get_last()\n",
    "#print(last.val)\n",
    "#l.pop()"
   ]
  },
  {
   "cell_type": "code",
   "execution_count": 173,
   "metadata": {},
   "outputs": [],
   "source": [
    "def push(self, val):\n",
    "        new_node = Node(val)\n",
    "        last = self.get_last()\n",
    "        \n",
    "        last.next = new_node\n",
    "        last.next.next = self.head\n",
    "\n",
    "Circular.push = push"
   ]
  },
  {
   "cell_type": "code",
   "execution_count": 174,
   "metadata": {},
   "outputs": [],
   "source": [
    "l.push(3)"
   ]
  },
  {
   "cell_type": "code",
   "execution_count": 175,
   "metadata": {},
   "outputs": [
    {
     "name": "stdout",
     "output_type": "stream",
     "text": [
      "[1, 6, 3, 5, 2, 4, 3]\n",
      "3\n",
      "[1, 6, 5, 2, 4, 3]\n"
     ]
    }
   ],
   "source": [
    "print(l)\n",
    "print(l.pop())\n",
    "print(l)"
   ]
  },
  {
   "cell_type": "code",
   "execution_count": 176,
   "metadata": {},
   "outputs": [],
   "source": [
    "def length(self):\n",
    "    temp = self.head\n",
    "    count = 0\n",
    "    \n",
    "    if temp is None:\n",
    "        return count\n",
    "    count = count + 1\n",
    "    while temp.next != self.head:\n",
    "        count = count + 1\n",
    "        temp = temp.next\n",
    "    return count\n",
    "\n",
    "Circular.length = length"
   ]
  },
  {
   "cell_type": "code",
   "execution_count": 177,
   "metadata": {},
   "outputs": [
    {
     "data": {
      "text/plain": [
       "6"
      ]
     },
     "execution_count": 177,
     "metadata": {},
     "output_type": "execute_result"
    }
   ],
   "source": [
    "l.length()"
   ]
  },
  {
   "cell_type": "code",
   "execution_count": 178,
   "metadata": {},
   "outputs": [],
   "source": [
    "def get(self, index):\n",
    "    temp = self.head\n",
    "    \n",
    "    if index == 0:\n",
    "        return self.head.val\n",
    "    \n",
    "    counter = 0\n",
    "    while temp.next != self.head and counter < index:\n",
    "        prev = temp\n",
    "        temp = temp.next\n",
    "        counter = counter + 1\n",
    "        \n",
    "    return temp.val\n",
    "\n",
    "Circular.get = get"
   ]
  },
  {
   "cell_type": "code",
   "execution_count": 180,
   "metadata": {},
   "outputs": [
    {
     "data": {
      "text/plain": [
       "3"
      ]
     },
     "execution_count": 180,
     "metadata": {},
     "output_type": "execute_result"
    }
   ],
   "source": [
    "l.get(12)"
   ]
  },
  {
   "cell_type": "code",
   "execution_count": 224,
   "metadata": {},
   "outputs": [],
   "source": [
    "def remove2(self,index):\n",
    "    last = self.get_last()\n",
    "    temp = self.head\n",
    "    \n",
    "    if index == 0:\n",
    "        if last == self.head:\n",
    "            self.head = None\n",
    "        else:\n",
    "            self.head = temp.next\n",
    "            last.next = self.head\n",
    "        return\n",
    "    \n",
    "    counter = 0\n",
    "    while temp.next != self.head and counter < index:\n",
    "        prev = temp\n",
    "        temp = temp.next\n",
    "        counter = counter + 1\n",
    "    prev.next = temp.next\n",
    "    \n",
    "Circular.remove2 = remove2"
   ]
  },
  {
   "cell_type": "code",
   "execution_count": 226,
   "metadata": {},
   "outputs": [
    {
     "name": "stdout",
     "output_type": "stream",
     "text": [
      "[1, 6, 5]\n",
      "[1, 6]\n"
     ]
    }
   ],
   "source": [
    "print(l)\n",
    "l.remove2(10)\n",
    "print(l)"
   ]
  },
  {
   "cell_type": "code",
   "execution_count": null,
   "metadata": {},
   "outputs": [],
   "source": []
  }
 ],
 "metadata": {
  "kernelspec": {
   "display_name": "Python 3",
   "language": "python",
   "name": "python3"
  },
  "language_info": {
   "codemirror_mode": {
    "name": "ipython",
    "version": 3
   },
   "file_extension": ".py",
   "mimetype": "text/x-python",
   "name": "python",
   "nbconvert_exporter": "python",
   "pygments_lexer": "ipython3",
   "version": "3.7.3"
  }
 },
 "nbformat": 4,
 "nbformat_minor": 2
}
